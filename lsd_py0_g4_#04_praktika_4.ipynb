{
 "cells": [
  {
   "cell_type": "markdown",
   "metadata": {},
   "source": [
    "# Įvadas / apšilimas"
   ]
  },
  {
   "cell_type": "code",
   "execution_count": null,
   "metadata": {},
   "outputs": [],
   "source": [
    "pirmas = input()  # char"
   ]
  },
  {
   "cell_type": "code",
   "execution_count": null,
   "metadata": {},
   "outputs": [],
   "source": [
    "type(pirmas)"
   ]
  },
  {
   "cell_type": "code",
   "execution_count": null,
   "metadata": {},
   "outputs": [],
   "source": [
    "type(int(pirmas))"
   ]
  },
  {
   "cell_type": "code",
   "execution_count": null,
   "metadata": {},
   "outputs": [],
   "source": [
    "antras = int(input())"
   ]
  },
  {
   "cell_type": "code",
   "execution_count": null,
   "metadata": {},
   "outputs": [],
   "source": [
    "type(antras)"
   ]
  },
  {
   "cell_type": "code",
   "execution_count": null,
   "metadata": {},
   "outputs": [],
   "source": [
    "trečias = []"
   ]
  },
  {
   "cell_type": "code",
   "execution_count": null,
   "metadata": {},
   "outputs": [],
   "source": [
    "type(trečias)"
   ]
  },
  {
   "cell_type": "code",
   "execution_count": null,
   "metadata": {},
   "outputs": [],
   "source": [
    "if type(pirmas) == str:\n",
    "    print('tai yra tekstas')\n",
    "elif type(antras) == int:\n",
    "    print('tai yra skaičius')\n",
    "else:\n",
    "    print('visa kita', type(trečias))"
   ]
  },
  {
   "cell_type": "code",
   "execution_count": null,
   "metadata": {},
   "outputs": [],
   "source": [
    "# vien tik `if`\n",
    "if type(pirmas) == str:\n",
    "    print('tai yra tekstas')\n",
    "if type(antras) == int:\n",
    "    print('tai yra skaičius')\n",
    "else:\n",
    "    print('visa kita', type(trečias))"
   ]
  },
  {
   "cell_type": "code",
   "execution_count": null,
   "metadata": {},
   "outputs": [],
   "source": []
  },
  {
   "cell_type": "code",
   "execution_count": null,
   "metadata": {},
   "outputs": [],
   "source": []
  },
  {
   "cell_type": "code",
   "execution_count": null,
   "metadata": {},
   "outputs": [],
   "source": []
  },
  {
   "cell_type": "code",
   "execution_count": null,
   "metadata": {},
   "outputs": [],
   "source": [
    "pirmas_skaicius = float(pirmas)"
   ]
  },
  {
   "cell_type": "code",
   "execution_count": null,
   "metadata": {},
   "outputs": [],
   "source": [
    "print(type(pirmas_skaicius))"
   ]
  },
  {
   "cell_type": "code",
   "execution_count": null,
   "metadata": {},
   "outputs": [],
   "source": [
    "if (type(pirmas_skaicius) == float ) or (type(pirmas_skaicius) == int):\n",
    "    print('tai float skaicius')\n",
    "else:\n",
    "    print('else:')\n",
    "    print(type(pirmas_skaicius))"
   ]
  },
  {
   "cell_type": "code",
   "execution_count": null,
   "metadata": {},
   "outputs": [],
   "source": [
    "type(pirmas_skaicius)"
   ]
  },
  {
   "cell_type": "code",
   "execution_count": null,
   "metadata": {},
   "outputs": [],
   "source": [
    "if ( type(pirmas) == float ) or ( type(pirmas) == int ):\n",
    "    print(type(pirmas))\n",
    "else:\n",
    "    print('Duok skaičių!')"
   ]
  },
  {
   "cell_type": "code",
   "execution_count": null,
   "metadata": {},
   "outputs": [],
   "source": []
  },
  {
   "cell_type": "markdown",
   "metadata": {},
   "source": [
    "# Funkcijos : 5-1"
   ]
  },
  {
   "cell_type": "markdown",
   "metadata": {},
   "source": [
    "```\n",
    "Užduotis 1\n",
    "Sukurti ir paleisti funkcijas, kurios:\n",
    "+• Sudėtų ir atspausdintų visus paduotus skaičius\n",
    "+• Atspausdintų didžiausią iš kelių paduotų skaičių\n",
    "• Išrikiuotų paduoto stringo žodžius nuo paskutinio iki pirmojo\n",
    "• Patikrintų ir atspausdintų, ar paduotas skaičius yra paduotame sąraše\n",
    "• Atspausdintų, kiek paduotame stringe yra žodžių, skaičių, didžiųjų ir\n",
    "mažųjų raidžių\n",
    "• Atspausdintų visus paduoto rėžio (nuo… iki) lyginius skaičius\n",
    "```"
   ]
  },
  {
   "cell_type": "code",
   "execution_count": null,
   "metadata": {},
   "outputs": [],
   "source": [
    "# title: Funkcija 5-1-1\n",
    "# version: 2021-10-20T1346 AU\n",
    "\n",
    "def skaiciu_suma(*ivestu_skaiciu_masyvas):\n",
    "    '''\n",
    "    Funkcija sudeda ir atspausdina visus paduotus skaičius\n",
    "    :param args: neribotas įvestų skaičių kiekis\n",
    "    :return: paduotų skaičių suma\n",
    "    '''\n",
    "    suma = 0\n",
    "    for ivestas_skaicius in ivestu_skaiciu_masyvas:\n",
    "        suma += ivestas_skaicius\n",
    "    # print(suma) # QC: OK\n",
    "    return(suma)"
   ]
  },
  {
   "cell_type": "code",
   "execution_count": null,
   "metadata": {},
   "outputs": [],
   "source": [
    "skaiciu_suma(2021, 10, 20)"
   ]
  },
  {
   "cell_type": "code",
   "execution_count": null,
   "metadata": {},
   "outputs": [],
   "source": [
    "print(skaiciu_suma(2021, 10, 20))"
   ]
  },
  {
   "cell_type": "code",
   "execution_count": null,
   "metadata": {},
   "outputs": [],
   "source": [
    "mano_suma = skaiciu_suma(2021, 10, 20)"
   ]
  },
  {
   "cell_type": "code",
   "execution_count": null,
   "metadata": {},
   "outputs": [],
   "source": [
    "print(mano_suma)"
   ]
  },
  {
   "cell_type": "code",
   "execution_count": null,
   "metadata": {},
   "outputs": [],
   "source": [
    "skaiciu_suma(2, 6, 4, 78, 1, 454, 30, 68)"
   ]
  },
  {
   "cell_type": "code",
   "execution_count": null,
   "metadata": {},
   "outputs": [],
   "source": []
  },
  {
   "cell_type": "code",
   "execution_count": null,
   "metadata": {},
   "outputs": [],
   "source": [
    "# title: Funkcija 5-1-2\n",
    "# version: 2021-10-20T1348 AU\n",
    "\n",
    "def mano_didziausias(*ivestu_skaiciu_sarasas):\n",
    "    '''\n",
    "    Funkcija atspausdina didžiausią iš kelių paduotų skaičių\n",
    "    :param ivestu_skaiciu_sarasas: įvestų skaičių sąrašas\n",
    "    :return: didžiausias skaičius\n",
    "    '''\n",
    "    didziausias = 0\n",
    "        # print(ivestas_skaicius) # QC: OK\n",
    "    for ivestas_skaicius in ivestu_skaiciu_sarasas:\n",
    "        if ivestas_skaicius > didziausias:\n",
    "            didziausias = ivestas_skaicius\n",
    "            print('radau naują didžiausią')\n",
    "    return(didziausias)"
   ]
  },
  {
   "cell_type": "code",
   "execution_count": null,
   "metadata": {},
   "outputs": [],
   "source": [
    "mano_didziausias(0, 1, 2, 10, 3, 11, 45, 1)"
   ]
  },
  {
   "cell_type": "code",
   "execution_count": null,
   "metadata": {},
   "outputs": [],
   "source": []
  },
  {
   "cell_type": "code",
   "execution_count": null,
   "metadata": {},
   "outputs": [],
   "source": []
  },
  {
   "cell_type": "code",
   "execution_count": null,
   "metadata": {},
   "outputs": [],
   "source": []
  },
  {
   "cell_type": "code",
   "execution_count": null,
   "metadata": {},
   "outputs": [],
   "source": [
    "# 3 "
   ]
  },
  {
   "cell_type": "code",
   "execution_count": null,
   "metadata": {},
   "outputs": [],
   "source": [
    "# title: Funkcija 5-1-3\n",
    "# version: 2021-10-20T1432 AU\n",
    "\n",
    "def rikiuok_fraze_atbulai(ivesta_fraze):\n",
    "    '''\n",
    "    Funkcija išrikiuoja paduoto stringo žodžius nuo paskutinio iki pirmojo\n",
    "    :param ivesta_fraze: įvesta frazė\n",
    "    :return: frazė atbulai\n",
    "    '''\n",
    "    frazes_zodziai = ivesta_fraze.split(\" \")\n",
    "    zodziu_frazeje = len(frazes_zodziai)\n",
    "    fraze_atbulai = \"\"\n",
    "    \n",
    "    while zodziu_frazeje > 0:\n",
    "        fraze_atbulai += frazes_zodziai[zodziu_frazeje - 1] + \" \"\n",
    "        zodziu_frazeje -= 1 # longer: zodziu_frazeje = zodziu_frazeje - 1\n",
    "    \n",
    "    return(fraze_atbulai)"
   ]
  },
  {
   "cell_type": "code",
   "execution_count": null,
   "metadata": {},
   "outputs": [],
   "source": [
    "rikiuok_fraze_atbulai(\"Funkcija išrikiuoja paduoto stringo žodžius nuo paskutinio iki pirmojo\")"
   ]
  },
  {
   "cell_type": "code",
   "execution_count": null,
   "metadata": {},
   "outputs": [],
   "source": [
    "# Alternatyva:\n",
    "def sakinys_atvirksciai(sakinys):\n",
    "    sakinio_zodziai = sakinys.split() \n",
    "    sarasas_atvirkciai = sakinio_zodziai[::-1]\n",
    "    string_atvirksciai = \" \".join(sarasas_atvirkciai)\n",
    "    print(string_atvirksciai)"
   ]
  },
  {
   "cell_type": "code",
   "execution_count": null,
   "metadata": {},
   "outputs": [],
   "source": [
    "sakinys_atvirksciai(\"Jau pavasaris atėjo, kas čia plytų tiek pridėjo?\")"
   ]
  },
  {
   "cell_type": "code",
   "execution_count": null,
   "metadata": {},
   "outputs": [],
   "source": []
  },
  {
   "cell_type": "code",
   "execution_count": null,
   "metadata": {},
   "outputs": [],
   "source": []
  },
  {
   "cell_type": "code",
   "execution_count": null,
   "metadata": {},
   "outputs": [],
   "source": []
  },
  {
   "cell_type": "code",
   "execution_count": null,
   "metadata": {},
   "outputs": [],
   "source": []
  },
  {
   "cell_type": "code",
   "execution_count": null,
   "metadata": {},
   "outputs": [],
   "source": [
    "# 4 "
   ]
  },
  {
   "cell_type": "code",
   "execution_count": null,
   "metadata": {},
   "outputs": [],
   "source": [
    "# title: Funkcija 5-1-4\n",
    "# version: 2021-10-20T1437 AU\n",
    "\n",
    "def ar_yra(skaicius, sarasas):\n",
    "    '''\n",
    "    Funkcija Patikrintų ir atspausdintų, ar paduotas skaičius yra paduotame sąraše\n",
    "    :param skaicius: norimas patikrinti skaicius\n",
    "    :param sarasas: skaičių sąrašas\n",
    "    :return: None\n",
    "    '''\n",
    "    if skaicius in sarasas:\n",
    "        print('yra sąraše')\n",
    "    else:\n",
    "        print('nėra sąraše')"
   ]
  },
  {
   "cell_type": "code",
   "execution_count": null,
   "metadata": {},
   "outputs": [],
   "source": [
    "sarasas = [1, 2, 5, 8, 10]\n",
    "ar_yra(1, sarasas)\n",
    "ar_yra(3, sarasas)"
   ]
  },
  {
   "cell_type": "code",
   "execution_count": null,
   "metadata": {},
   "outputs": [],
   "source": [
    "# Alternatyva:\n",
    "def ar_yra(skaicius, sarasas):\n",
    "     print(skaicius in sarasas)"
   ]
  },
  {
   "cell_type": "code",
   "execution_count": null,
   "metadata": {},
   "outputs": [],
   "source": [
    "ar_yra(1, sarasas)\n",
    "ar_yra(3, sarasas)"
   ]
  },
  {
   "cell_type": "code",
   "execution_count": null,
   "metadata": {},
   "outputs": [],
   "source": [
    "type(1 in sarasas)"
   ]
  },
  {
   "cell_type": "code",
   "execution_count": null,
   "metadata": {},
   "outputs": [],
   "source": [
    "ar_yra(1, [5, 6, 7, 9, 10, 15, 45, 100])"
   ]
  },
  {
   "cell_type": "code",
   "execution_count": null,
   "metadata": {},
   "outputs": [],
   "source": [
    "# MARTYNAS ..\n",
    "print(\n",
    "    *[\n",
    "        ( str(s)+'Q'+str(l) )\n",
    "        for s in range(2010,2020)\n",
    "        for l in range(1, 5)\n",
    "        for apskritis in \n",
    "    ]\n",
    ")"
   ]
  },
  {
   "cell_type": "code",
   "execution_count": null,
   "metadata": {},
   "outputs": [],
   "source": []
  },
  {
   "cell_type": "code",
   "execution_count": null,
   "metadata": {},
   "outputs": [],
   "source": []
  },
  {
   "cell_type": "code",
   "execution_count": null,
   "metadata": {},
   "outputs": [],
   "source": []
  },
  {
   "cell_type": "code",
   "execution_count": null,
   "metadata": {},
   "outputs": [],
   "source": []
  },
  {
   "cell_type": "code",
   "execution_count": null,
   "metadata": {},
   "outputs": [],
   "source": [
    "# 5-1-5\n",
    "# T1447\n",
    "def patikrinti_sakini(sakinys):\n",
    "    '''\n",
    "    Atspausdina, kiek paduotame stringe yra žodžių, skaičių, didžiųjų ir mažųjų raidžių\n",
    "    :param sakinys: Sakinys (string tipo)\n",
    "    :return: None\n",
    "    '''\n",
    "    skaiciai = 0\n",
    "    didziosios_raides = 0\n",
    "    mazosios_raides = 0\n",
    "\n",
    "    zodziu_kiekis = len(sakinys.split())\n",
    "    for simbolis in sakinys:\n",
    "        if simbolis.isdigit():\n",
    "            skaiciai += 1\n",
    "        if simbolis.isupper():\n",
    "            didziosios_raides += 1\n",
    "        if simbolis.islower():\n",
    "            mazosios_raides += 1\n",
    "    print(\n",
    "        \"Žodžių kiekis:\", zodziu_kiekis\n",
    "        , \"Skaičių kiekis\", skaiciai\n",
    "        , \"Didžiųjų raidžių:\", didziosios_raides\n",
    "        , \"Mažųjų raidžių\", mazosios_raides\n",
    "    )"
   ]
  },
  {
   "cell_type": "code",
   "execution_count": null,
   "metadata": {},
   "outputs": [],
   "source": [
    "patikrinti_sakini(\"12: Jau pavasaris atėjo, kas čia plytų TIEK pridėjo?\")"
   ]
  },
  {
   "cell_type": "code",
   "execution_count": null,
   "metadata": {},
   "outputs": [],
   "source": [
    "# Alternatyva:\n",
    "def patikrinti_sakini(sakinys):\n",
    "    print(\"Žodžių kiekis:\", len(sakinys.split()))\n",
    "    print(\"Skaičių kiekis:\", sum(s.isdigit() for s in sakinys))\n",
    "    print(\"Didžiųjų raidžių:\", sum(s.isupper() for s in sakinys))\n",
    "    print(\"Mažųjų raidžių:\", sum(s.islower() for s in sakinys))"
   ]
  },
  {
   "cell_type": "code",
   "execution_count": null,
   "metadata": {},
   "outputs": [],
   "source": [
    "patikrinti_sakini(\"12: Jau pavasaris atėjo, kas čia plytų TIEK pridėjo?\")"
   ]
  },
  {
   "cell_type": "code",
   "execution_count": null,
   "metadata": {},
   "outputs": [],
   "source": []
  },
  {
   "cell_type": "code",
   "execution_count": null,
   "metadata": {},
   "outputs": [],
   "source": []
  },
  {
   "cell_type": "code",
   "execution_count": null,
   "metadata": {},
   "outputs": [],
   "source": []
  },
  {
   "cell_type": "code",
   "execution_count": null,
   "metadata": {},
   "outputs": [],
   "source": []
  },
  {
   "cell_type": "code",
   "execution_count": null,
   "metadata": {},
   "outputs": [],
   "source": [
    "def lyginiai_skaiciai(nuo, iki):\n",
    "    '''\n",
    "    Atspausdina visus paduoto rėžio (nuo… iki) lyginius skaičius\n",
    "    :param nuo: Mažiausias rėžio skaičius\n",
    "    :param iki: Didžiausias rėžio skaičius\n",
    "    :return: Lyginių skaičių sąrašas\n",
    "    '''\n",
    "    for skaicius in range(nuo, iki):\n",
    "        if skaicius % 2 == 0:\n",
    "            print(skaicius)\n",
    "\n",
    "print(lyginiai_skaiciai(0, 5))"
   ]
  },
  {
   "cell_type": "code",
   "execution_count": null,
   "metadata": {},
   "outputs": [],
   "source": []
  },
  {
   "cell_type": "code",
   "execution_count": null,
   "metadata": {},
   "outputs": [],
   "source": []
  },
  {
   "cell_type": "code",
   "execution_count": null,
   "metadata": {},
   "outputs": [],
   "source": []
  },
  {
   "cell_type": "code",
   "execution_count": null,
   "metadata": {},
   "outputs": [],
   "source": []
  },
  {
   "cell_type": "code",
   "execution_count": null,
   "metadata": {},
   "outputs": [],
   "source": []
  },
  {
   "cell_type": "code",
   "execution_count": 1,
   "metadata": {},
   "outputs": [
    {
     "data": {
      "text/plain": [
       "'\\nUžduotis 5-2\\n• Parašyti programą, kuri:\\n    • Leistų vartotojui įvesti sumą, išleistą restorane\\n    • Turėtų funkciją, kuri prie sumos pridėtų mokesčius (21 proc. PVM)\\n    • Turėtų funkciją, kuri prie sumos su PVM pridėtų arbatpinigius (15\\nproc.)\\nPrograma turėtų pridėti prie įvestos sumos mokesčius, arbatpinigius\\n(panaudojant funkcijas) ir atspausdinti bendrą sumą\\n'"
      ]
     },
     "execution_count": 1,
     "metadata": {},
     "output_type": "execute_result"
    }
   ],
   "source": [
    "'''\n",
    "Užduotis 5-2\n",
    "• Parašyti programą, kuri:\n",
    "    • Leistų vartotojui įvesti sumą, išleistą restorane\n",
    "    • Turėtų funkciją, kuri prie sumos pridėtų mokesčius (21 proc. PVM)\n",
    "    • Turėtų funkciją, kuri prie sumos su PVM pridėtų arbatpinigius (15\n",
    "proc.)\n",
    "Programa turėtų pridėti prie įvestos sumos mokesčius, arbatpinigius\n",
    "(panaudojant funkcijas) ir atspausdinti bendrą sumą\n",
    "'''"
   ]
  },
  {
   "cell_type": "code",
   "execution_count": 3,
   "metadata": {},
   "outputs": [
    {
     "name": "stdout",
     "output_type": "stream",
     "text": [
      "Suma, išleista restorane? 100.99\n"
     ]
    }
   ],
   "source": [
    "suma = float(input(\"Suma, išleista restorane? \"))"
   ]
  },
  {
   "cell_type": "code",
   "execution_count": 4,
   "metadata": {},
   "outputs": [
    {
     "data": {
      "text/plain": [
       "float"
      ]
     },
     "execution_count": 4,
     "metadata": {},
     "output_type": "execute_result"
    }
   ],
   "source": [
    "type(suma)"
   ]
  },
  {
   "cell_type": "code",
   "execution_count": 5,
   "metadata": {},
   "outputs": [
    {
     "data": {
      "text/plain": [
       "100.99"
      ]
     },
     "execution_count": 5,
     "metadata": {},
     "output_type": "execute_result"
    }
   ],
   "source": [
    "suma"
   ]
  },
  {
   "cell_type": "code",
   "execution_count": 6,
   "metadata": {},
   "outputs": [],
   "source": [
    "def suma_plius_mokesciai(suma2):\n",
    "    return(suma2 * 1.21)"
   ]
  },
  {
   "cell_type": "code",
   "execution_count": 7,
   "metadata": {},
   "outputs": [
    {
     "name": "stdout",
     "output_type": "stream",
     "text": [
      "122.19789999999999\n"
     ]
    }
   ],
   "source": [
    "suma2 = suma_plius_mokesciai(suma)\n",
    "print(suma2)"
   ]
  },
  {
   "cell_type": "code",
   "execution_count": 8,
   "metadata": {},
   "outputs": [
    {
     "name": "stdout",
     "output_type": "stream",
     "text": [
      "122.19789999999999\n",
      "122.2\n",
      "122.19\n"
     ]
    }
   ],
   "source": [
    "import math\n",
    "print(suma2)\n",
    "print(round(suma2, 2))\n",
    "print(math.floor(suma2 * 100)/100)\n",
    "suma2 = math.floor(suma2 * 100)/100"
   ]
  },
  {
   "cell_type": "code",
   "execution_count": 9,
   "metadata": {},
   "outputs": [],
   "source": [
    "def suma_plius_arbata(suma3):\n",
    "    return(suma3 * 1.15)"
   ]
  },
  {
   "cell_type": "code",
   "execution_count": 10,
   "metadata": {},
   "outputs": [
    {
     "data": {
      "text/plain": [
       "140.5185"
      ]
     },
     "execution_count": 10,
     "metadata": {},
     "output_type": "execute_result"
    }
   ],
   "source": [
    "suma_plius_arbata(suma2)"
   ]
  },
  {
   "cell_type": "code",
   "execution_count": 11,
   "metadata": {},
   "outputs": [
    {
     "name": "stdout",
     "output_type": "stream",
     "text": [
      "140.527585\n"
     ]
    }
   ],
   "source": [
    "suma_plius_mokesciai = suma_plius_mokesciai(suma)\n",
    "suma_plius_arbata = suma_plius_arbata(suma_plius_mokesciai)\n",
    "print(suma_plius_arbata)"
   ]
  },
  {
   "cell_type": "code",
   "execution_count": null,
   "metadata": {},
   "outputs": [],
   "source": []
  },
  {
   "cell_type": "code",
   "execution_count": null,
   "metadata": {},
   "outputs": [],
   "source": []
  },
  {
   "cell_type": "code",
   "execution_count": null,
   "metadata": {},
   "outputs": [],
   "source": []
  },
  {
   "cell_type": "code",
   "execution_count": null,
   "metadata": {},
   "outputs": [],
   "source": []
  },
  {
   "cell_type": "code",
   "execution_count": null,
   "metadata": {},
   "outputs": [],
   "source": [
    "# 3-5\n",
    "metai = int(input(\"Iveskite metus: \"))\n",
    "if (metai % 400 == 0) or (metai % 100 != 0 and metai % 4 == 0):\n",
    "    print(\"Keliamieji metai\")\n",
    "else:\n",
    "    print(\"Nekeliamieji metai\")"
   ]
  },
  {
   "cell_type": "markdown",
   "metadata": {},
   "source": [
    "# 5-3\n",
    "Pagal 3 paskaitos 5 užduotį parašyti programą, kuri:\n",
    "* Leistų vartotojui įvesti metų rėžį (nuo...iki)\n",
    "* Turėtų funkciją, kuri įvestu metus priimtų kaip argumentus\n",
    "* Funkcija atspausdintų visus keliamuosius metus pagal duotus argumentus"
   ]
  },
  {
   "cell_type": "code",
   "execution_count": 15,
   "metadata": {},
   "outputs": [
    {
     "name": "stdout",
     "output_type": "stream",
     "text": [
      "Įveskite datą nuo.. 1991\n",
      "Įveskite datą iki.. 2025\n"
     ]
    }
   ],
   "source": [
    "ivesti_metai_nuo = int(input(\"Įveskite datą nuo.. \"))\n",
    "ivesti_metai_iki = int(input(\"Įveskite datą iki.. \"))"
   ]
  },
  {
   "cell_type": "code",
   "execution_count": 16,
   "metadata": {},
   "outputs": [],
   "source": [
    "def keliamieji_metai(metai_nuo, metai_iki):\n",
    "    for metai in range(metai_nuo, metai_iki + 1):\n",
    "        if (metai % 400 == 0) or (metai % 100 != 0 and metai % 4 == 0):\n",
    "            print(metai)"
   ]
  },
  {
   "cell_type": "code",
   "execution_count": 17,
   "metadata": {},
   "outputs": [
    {
     "name": "stdout",
     "output_type": "stream",
     "text": [
      "1992\n",
      "1996\n",
      "2000\n",
      "2004\n",
      "2008\n",
      "2012\n",
      "2016\n",
      "2020\n",
      "2024\n"
     ]
    }
   ],
   "source": [
    "keliamieji_metai(ivesti_metai_nuo, ivesti_metai_iki)"
   ]
  },
  {
   "cell_type": "markdown",
   "metadata": {},
   "source": [
    "# valio, skaidrės #5 užbaigtos"
   ]
  },
  {
   "cell_type": "code",
   "execution_count": 18,
   "metadata": {},
   "outputs": [],
   "source": [
    "globalus = 10"
   ]
  },
  {
   "cell_type": "code",
   "execution_count": 23,
   "metadata": {},
   "outputs": [],
   "source": [
    "def funkcija():\n",
    "    # global lokalus # advanced\n",
    "    lokalus = 12\n",
    "    suma = globalus + lokalus\n",
    "    print(suma)"
   ]
  },
  {
   "cell_type": "code",
   "execution_count": 24,
   "metadata": {},
   "outputs": [
    {
     "name": "stdout",
     "output_type": "stream",
     "text": [
      "22\n"
     ]
    }
   ],
   "source": [
    "funkcija()"
   ]
  },
  {
   "cell_type": "code",
   "execution_count": 26,
   "metadata": {},
   "outputs": [
    {
     "name": "stdout",
     "output_type": "stream",
     "text": [
      "22\n"
     ]
    }
   ],
   "source": [
    "kita_suma = globalus + lokalus\n",
    "print(kita_suma)"
   ]
  },
  {
   "cell_type": "code",
   "execution_count": null,
   "metadata": {},
   "outputs": [],
   "source": []
  }
 ],
 "metadata": {
  "kernelspec": {
   "display_name": "Python 3",
   "language": "python",
   "name": "python3"
  },
  "language_info": {
   "codemirror_mode": {
    "name": "ipython",
    "version": 3
   },
   "file_extension": ".py",
   "mimetype": "text/x-python",
   "name": "python",
   "nbconvert_exporter": "python",
   "pygments_lexer": "ipython3",
   "version": "3.8.8"
  }
 },
 "nbformat": 4,
 "nbformat_minor": 4
}
