{
 "cells": [
  {
   "cell_type": "markdown",
   "metadata": {},
   "source": [
    "# Vertybės\n",
    "\n",
    "* Dosnumas\n",
    "* Meilė\n",
    "* Išmintis"
   ]
  },
  {
   "cell_type": "code",
   "execution_count": 7,
   "metadata": {},
   "outputs": [],
   "source": [
    "from Paskaitos_class import *"
   ]
  },
  {
   "cell_type": "code",
   "execution_count": 8,
   "metadata": {},
   "outputs": [],
   "source": [
    "import sqlite3\n",
    "\n",
    "# conn = sqlite3.connect(\":memory:\")\n",
    "conn = sqlite3.connect(\"my_file.db\")\n",
    "c = conn.cursor()"
   ]
  },
  {
   "cell_type": "code",
   "execution_count": 9,
   "metadata": {},
   "outputs": [
    {
     "name": "stdout",
     "output_type": "stream",
     "text": [
      "yra lentelė\n",
      "yra duomenys\n",
      "paskaitų yra bent viena\n",
      "paskaitų yra 5\n"
     ]
    }
   ],
   "source": [
    "# QC:\n",
    "with conn:\n",
    "    try:\n",
    "        c.execute(\"SELECT COUNT(*) FROM paskaitos\")\n",
    "        \n",
    "        paskaitu_kiekis = c.fetchall() # [(6,)]\n",
    "#         print(paskaitu_kiekis)\n",
    "\n",
    "        if paskaitu_kiekis != None: # #> 0:\n",
    "            print('yra lentelė')\n",
    "\n",
    "            if len(paskaitu_kiekis) > 0:\n",
    "                print('yra duomenys')\n",
    "\n",
    "                if type(paskaitu_kiekis[0]) == tuple:\n",
    "                    print('paskaitų yra bent viena')\n",
    "\n",
    "                    if paskaitu_kiekis[0][0] > 0:\n",
    "                        print(f'paskaitų yra {paskaitu_kiekis[0][0]}')\n",
    "                    \n",
    "    except:\n",
    "        print(\"kažkas ne taip\")"
   ]
  },
  {
   "cell_type": "markdown",
   "metadata": {},
   "source": [
    "# Klasė `Paskaitos`"
   ]
  },
  {
   "cell_type": "code",
   "execution_count": 10,
   "metadata": {},
   "outputs": [],
   "source": [
    "nauja_paskaita = Paskaitos(\"Python Pradedantiesiems\", \"AU\", 40)\n",
    "nauja_paskaita_2 = Paskaitos(\"Python Advanced\", \"AU\", 80)\n",
    "nauja_paskaita_3 = Paskaitos(\"Python Expert\", \"??\", 999)"
   ]
  },
  {
   "cell_type": "code",
   "execution_count": 11,
   "metadata": {},
   "outputs": [
    {
     "name": "stdout",
     "output_type": "stream",
     "text": [
      "Python Pradedantiesiems, 40\n",
      "Python Advanced, 80\n",
      "Python Expert, 999\n"
     ]
    }
   ],
   "source": [
    "nauja_paskaita.spausdink_paskaitos_info()\n",
    "nauja_paskaita_2.spausdink_paskaitos_info()\n",
    "nauja_paskaita_3.spausdink_paskaitos_info()"
   ]
  },
  {
   "cell_type": "code",
   "execution_count": 14,
   "metadata": {},
   "outputs": [
    {
     "ename": "AttributeError",
     "evalue": "__enter__",
     "output_type": "error",
     "traceback": [
      "\u001b[1;31m---------------------------------------------------------------------------\u001b[0m",
      "\u001b[1;31mAttributeError\u001b[0m                            Traceback (most recent call last)",
      "\u001b[1;32m<ipython-input-14-85e797c8f96a>\u001b[0m in \u001b[0;36m<module>\u001b[1;34m\u001b[0m\n\u001b[1;32m----> 1\u001b[1;33m \u001b[0mnauja_paskaita\u001b[0m\u001b[1;33m.\u001b[0m\u001b[0msukurk_paskaitos\u001b[0m\u001b[1;33m(\u001b[0m\u001b[1;33m)\u001b[0m\u001b[1;33m\u001b[0m\u001b[1;33m\u001b[0m\u001b[0m\n\u001b[0m",
      "\u001b[1;32m~\\LSD_PP_G4\\7_praktika\\Paskaitos_class.py\u001b[0m in \u001b[0;36msukurk_paskaitos\u001b[1;34m(conn)\u001b[0m\n\u001b[0;32m     15\u001b[0m \u001b[1;33m\u001b[0m\u001b[0m\n\u001b[0;32m     16\u001b[0m     \u001b[1;32mdef\u001b[0m \u001b[0msukurk_paskaitos\u001b[0m\u001b[1;33m(\u001b[0m\u001b[0mconn\u001b[0m\u001b[1;33m)\u001b[0m\u001b[1;33m:\u001b[0m\u001b[1;33m\u001b[0m\u001b[1;33m\u001b[0m\u001b[0m\n\u001b[1;32m---> 17\u001b[1;33m         \u001b[1;32mwith\u001b[0m \u001b[0mconn\u001b[0m\u001b[1;33m:\u001b[0m\u001b[1;33m\u001b[0m\u001b[1;33m\u001b[0m\u001b[0m\n\u001b[0m\u001b[0;32m     18\u001b[0m             \u001b[0mc\u001b[0m\u001b[1;33m.\u001b[0m\u001b[0mexecute\u001b[0m\u001b[1;33m(\u001b[0m\u001b[1;34m\"SELECT COUNT(*) FROM paskaitos\"\u001b[0m\u001b[1;33m)\u001b[0m\u001b[1;33m\u001b[0m\u001b[1;33m\u001b[0m\u001b[0m\n\u001b[0;32m     19\u001b[0m             \u001b[0mpaskaitu_kiekis\u001b[0m \u001b[1;33m=\u001b[0m \u001b[0mc\u001b[0m\u001b[1;33m.\u001b[0m\u001b[0mfetchall\u001b[0m\u001b[1;33m(\u001b[0m\u001b[1;33m)\u001b[0m \u001b[1;31m# [(6,)]\u001b[0m\u001b[1;33m\u001b[0m\u001b[1;33m\u001b[0m\u001b[0m\n",
      "\u001b[1;31mAttributeError\u001b[0m: __enter__"
     ]
    }
   ],
   "source": [
    "nauja_paskaita.sukurk_paskaitos()"
   ]
  },
  {
   "cell_type": "code",
   "execution_count": 12,
   "metadata": {},
   "outputs": [
    {
     "ename": "TypeError",
     "evalue": "sukurk_paskaitos() takes 1 positional argument but 2 were given",
     "output_type": "error",
     "traceback": [
      "\u001b[1;31m---------------------------------------------------------------------------\u001b[0m",
      "\u001b[1;31mTypeError\u001b[0m                                 Traceback (most recent call last)",
      "\u001b[1;32m<ipython-input-12-f2dfca55f58f>\u001b[0m in \u001b[0;36m<module>\u001b[1;34m\u001b[0m\n\u001b[1;32m----> 1\u001b[1;33m \u001b[0mnauja_paskaita\u001b[0m\u001b[1;33m.\u001b[0m\u001b[0msukurk_paskaitos\u001b[0m\u001b[1;33m(\u001b[0m\u001b[0mconn\u001b[0m\u001b[1;33m)\u001b[0m\u001b[1;33m\u001b[0m\u001b[1;33m\u001b[0m\u001b[0m\n\u001b[0m\u001b[0;32m      2\u001b[0m \u001b[0mnauja_paskaita_2\u001b[0m\u001b[1;33m.\u001b[0m\u001b[0msukurk_paskaitos\u001b[0m\u001b[1;33m(\u001b[0m\u001b[0mconn\u001b[0m\u001b[1;33m)\u001b[0m\u001b[1;33m\u001b[0m\u001b[1;33m\u001b[0m\u001b[0m\n",
      "\u001b[1;31mTypeError\u001b[0m: sukurk_paskaitos() takes 1 positional argument but 2 were given"
     ]
    }
   ],
   "source": [
    "nauja_paskaita.sukurk_paskaitos(conn)\n",
    "nauja_paskaita_2.sukurk_paskaitos(conn)"
   ]
  },
  {
   "cell_type": "code",
   "execution_count": null,
   "metadata": {},
   "outputs": [],
   "source": [
    "nauja_paskaita_3.irasyk_paskaita()"
   ]
  },
  {
   "cell_type": "markdown",
   "metadata": {},
   "source": [
    "---"
   ]
  },
  {
   "cell_type": "code",
   "execution_count": null,
   "metadata": {},
   "outputs": [],
   "source": [
    "query_CREATE = \"\"\"\n",
    "CREATE TABLE paskaitos(\n",
    "  pavadinimas text\n",
    ", destytojas text\n",
    ", trukme int\n",
    ")\n",
    "\"\"\""
   ]
  },
  {
   "cell_type": "code",
   "execution_count": null,
   "metadata": {},
   "outputs": [],
   "source": [
    "c = conn.cursor()\n",
    "with conn:\n",
    "    c.execute(query_CREATE)"
   ]
  },
  {
   "cell_type": "code",
   "execution_count": null,
   "metadata": {},
   "outputs": [],
   "source": [
    "query_CREATE_QC = \"SELECT * FROM paskaitos\"\n",
    "\n",
    "with conn:\n",
    "    c.execute(query_CREATE_QC)\n",
    "    print(c.fetchall())"
   ]
  },
  {
   "cell_type": "markdown",
   "metadata": {},
   "source": [
    "---"
   ]
  },
  {
   "cell_type": "code",
   "execution_count": null,
   "metadata": {},
   "outputs": [],
   "source": [
    "## INSERT DATA  ## MANY LINES\n",
    "with conn:\n",
    "    c.execute(\"INSERT INTO paskaitos VALUES ('Vadyba', 'Domantas', 40)\")\n",
    "    c.execute(\"INSERT INTO paskaitos VALUES ('Python', 'Donatas', 80)\")\n",
    "    c.execute(\"INSERT INTO paskaitos VALUES ('Java', 'Tomas', 80)\")"
   ]
  },
  {
   "cell_type": "code",
   "execution_count": null,
   "metadata": {},
   "outputs": [],
   "source": [
    "query_INSERT_QC = \"SELECT * FROM paskaitos\"\n",
    "\n",
    "with conn:\n",
    "    c.execute(query_INSERT_QC)\n",
    "    print(c.fetchall())"
   ]
  },
  {
   "cell_type": "code",
   "execution_count": null,
   "metadata": {},
   "outputs": [],
   "source": [
    "## INSERT DATA  ## VIENAS KVIETIMAS, DAUG EILUČIŲ\n",
    "with conn:\n",
    "    c.execute(\"\"\"\n",
    "    -- KUR?\n",
    "    INSERT INTO\n",
    "        paskaitos\n",
    "\n",
    "    -- KĄ?\n",
    "    VALUES\n",
    "        ('Vadyba', 'Domantas', 400)\n",
    "    ,\t('Python', 'Donatas', 180)\n",
    "    ,\t('Java', 'Tomas', 820)\n",
    "    \"\"\")"
   ]
  },
  {
   "cell_type": "markdown",
   "metadata": {},
   "source": [
    "---"
   ]
  },
  {
   "cell_type": "markdown",
   "metadata": {},
   "source": [
    "### Baigia: Inžinierius: struktūra paruošta, duomenys jau yra; pradeda analitikai"
   ]
  },
  {
   "cell_type": "code",
   "execution_count": null,
   "metadata": {},
   "outputs": [],
   "source": [
    "# Atspausdinti kiekį įrašų, kuriuos grąžins pilna užklausa\n",
    "with conn:\n",
    "    c.execute(\n",
    "        \"\"\"\n",
    "        SELECT COUNT(*) AS 'COUNTER'\n",
    "        FROM paskaitos\n",
    "        WHERE trukme > 50\n",
    "        \"\"\"\n",
    "    )\n",
    "    print(c.fetchall())"
   ]
  },
  {
   "cell_type": "code",
   "execution_count": null,
   "metadata": {},
   "outputs": [],
   "source": [
    "# Atspausdintų tik tas paskaitas, kurių trukmė didesnė už 50\n",
    "with conn:\n",
    "    c.execute(\"SELECT * FROM paskaitos WHERE trukme > 50\")\n",
    "    print(c.fetchall())"
   ]
  },
  {
   "cell_type": "markdown",
   "metadata": {},
   "source": [
    "---"
   ]
  },
  {
   "cell_type": "code",
   "execution_count": null,
   "metadata": {},
   "outputs": [],
   "source": [
    "# * Atnaujintų paskaitos „Python“ pavadinimą į „Python programavimas“\n",
    "q_update_PY8 = \"\"\"\n",
    "UPDATE paskaitos\n",
    "SET pavadinimas = \"LSD_PP_G4_7\"\n",
    "WHERE pavadinimas = \"Python\"\n",
    "\"\"\"\n",
    "\n",
    "with conn:\n",
    "    c.execute(q_update_PY8)"
   ]
  },
  {
   "cell_type": "code",
   "execution_count": null,
   "metadata": {},
   "outputs": [],
   "source": [
    "with conn:\n",
    "#     c.execute(\"SELECT COUNT(*) FROM paskaitos\")\n",
    "    c.execute(\"SELECT * FROM paskaitos LIMIT 10\")\n",
    "#     c.execute(\"SELECT TOP 10 * FROM paskaitos\") # alternatyva\n",
    "#     print(c.fetchall()) # visos eilutes\n",
    "#     print(c.fetchone()) # viena eilute\n",
    "#    x = c.fetchall()\n",
    "    x1 = c.fetchone() # viena eilute"
   ]
  },
  {
   "cell_type": "code",
   "execution_count": null,
   "metadata": {},
   "outputs": [],
   "source": [
    "with conn:\n",
    "    c.execute(\"SELECT * FROM paskaitos\")\n",
    "    while 1:\n",
    "        row = c.fetchone()\n",
    "        if row is None:\n",
    "            print(\"Ouch\")\n",
    "            break\n",
    "        # process row"
   ]
  },
  {
   "cell_type": "code",
   "execution_count": null,
   "metadata": {},
   "outputs": [],
   "source": [
    "print(x1[0])"
   ]
  },
  {
   "cell_type": "markdown",
   "metadata": {},
   "source": [
    "---"
   ]
  },
  {
   "cell_type": "code",
   "execution_count": null,
   "metadata": {
    "scrolled": true
   },
   "outputs": [],
   "source": [
    "# Ištrintų paskaitą, kurios dėstytojas – „Tomas“\n",
    "delete_teacher = \"\"\"\n",
    "DELETE FROM paskaitos\n",
    "WHERE destytojas = 'Domantas'\n",
    "\"\"\"\n",
    "\n",
    "## \"\\nDELETE FROM paskaitos\\nWHERE destytojas = 'Domantas'\\n\"\n",
    "\n",
    "print(delete_teacher)"
   ]
  },
  {
   "cell_type": "code",
   "execution_count": null,
   "metadata": {},
   "outputs": [],
   "source": [
    "with conn:\n",
    "    c.execute(delete_teacher)"
   ]
  },
  {
   "cell_type": "code",
   "execution_count": null,
   "metadata": {},
   "outputs": [],
   "source": [
    "with conn:\n",
    "    c.execute(\"SELECT * FROM paskaitos LIMIT 10\")\n",
    "    print(c.fetchall())"
   ]
  },
  {
   "cell_type": "markdown",
   "metadata": {},
   "source": [
    "---"
   ]
  },
  {
   "cell_type": "markdown",
   "metadata": {},
   "source": [
    "# JŪSŲ PRAKTIKA :)\n",
    "KAS NORI PASIPRAKTIKUOTI ?"
   ]
  },
  {
   "cell_type": "code",
   "execution_count": 15,
   "metadata": {},
   "outputs": [],
   "source": [
    "import sqlite3\n",
    "conn = sqlite3.connect(\"DB2\")\n",
    "c = conn.cursor()\n",
    "\n",
    "class Paskaita:\n",
    "    def __init__(self, pavadinimas, destytojas, trukme):\n",
    "        self.vardas = pavadinimas\n",
    "        self.pavarde = destytojas\n",
    "        self.atlyginimas = trukme\n",
    "\n",
    "vadyba = Paskaita('Vadyba', 'Domantas', 40)\n",
    "python = Paskaita('Python', 'Donatas', 80)\n",
    "java = Paskaita('Java', 'Tomas', 80)"
   ]
  },
  {
   "cell_type": "code",
   "execution_count": 16,
   "metadata": {},
   "outputs": [
    {
     "ename": "OperationalError",
     "evalue": "table paskaitos already exists",
     "output_type": "error",
     "traceback": [
      "\u001b[1;31m---------------------------------------------------------------------------\u001b[0m",
      "\u001b[1;31mOperationalError\u001b[0m                          Traceback (most recent call last)",
      "\u001b[1;32m<ipython-input-16-7d5deaa61737>\u001b[0m in \u001b[0;36m<module>\u001b[1;34m\u001b[0m\n\u001b[0;32m      1\u001b[0m \u001b[1;32mwith\u001b[0m \u001b[0mconn\u001b[0m\u001b[1;33m:\u001b[0m\u001b[1;33m\u001b[0m\u001b[1;33m\u001b[0m\u001b[0m\n\u001b[1;32m----> 2\u001b[1;33m     c.execute(\"\"\"CREATE TABLE paskaitos (\n\u001b[0m\u001b[0;32m      3\u001b[0m             \u001b[0mpavadinimas\u001b[0m \u001b[0mtext\u001b[0m\u001b[1;33m,\u001b[0m\u001b[1;33m\u001b[0m\u001b[1;33m\u001b[0m\u001b[0m\n\u001b[0;32m      4\u001b[0m             \u001b[0mdestytojas\u001b[0m \u001b[0mtext\u001b[0m\u001b[1;33m,\u001b[0m\u001b[1;33m\u001b[0m\u001b[1;33m\u001b[0m\u001b[0m\n\u001b[0;32m      5\u001b[0m             \u001b[0mtrukme\u001b[0m \u001b[0minteger\u001b[0m\u001b[1;33m\u001b[0m\u001b[1;33m\u001b[0m\u001b[0m\n",
      "\u001b[1;31mOperationalError\u001b[0m: table paskaitos already exists"
     ]
    }
   ],
   "source": [
    "with conn:\n",
    "    c.execute(\"\"\"CREATE TABLE paskaitos (\n",
    "            pavadinimas text,\n",
    "            destytojas text,\n",
    "            trukme integer\n",
    "            )\"\"\"\n",
    ")"
   ]
  },
  {
   "cell_type": "code",
   "execution_count": null,
   "metadata": {},
   "outputs": [],
   "source": [
    "with conn:\n",
    "    c.execute(f\"INSERT INTO paskaitos VALUES ('{vadyba.pavadinimas}', '{vadyba.destytojas}', {vadyba.trukme})\")\n",
    "    c.execute(f\"INSERT INTO paskaitos VALUES ('{python.pavadinimas}', '{python.destytojas}', {python.trukme})\")\n",
    "    c.execute(f\"INSERT INTO paskaitos VALUES ('{java.pavadinimas}', '{java.destytojas}', {java.trukme})\")\n",
    "\n",
    "with conn:\n",
    "    c.execute(\"SELECT * From paskaitos Where trukme > 50\")\n",
    "    print(c.fetchall())\n",
    "\n",
    "with conn:\n",
    "    c.execute(\"UPDATE paskaitos SET pavadinimas='Python programavimas' WHERE pavadinimas='Python'\")\n",
    "\n",
    "with conn:\n",
    "    c.execute(\"DELETE from paskaitos WHERE destytojas='Tomas'\")\n",
    "\n",
    "with conn:\n",
    "    c.execute(\"SELECT * From paskaitos\")\n",
    "    print(c.fetchall())\n",
    "\n"
   ]
  }
 ],
 "metadata": {
  "kernelspec": {
   "display_name": "Python 3",
   "language": "python",
   "name": "python3"
  },
  "language_info": {
   "codemirror_mode": {
    "name": "ipython",
    "version": 3
   },
   "file_extension": ".py",
   "mimetype": "text/x-python",
   "name": "python",
   "nbconvert_exporter": "python",
   "pygments_lexer": "ipython3",
   "version": "3.8.8"
  }
 },
 "nbformat": 4,
 "nbformat_minor": 4
}
