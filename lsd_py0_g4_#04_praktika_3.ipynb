{
 "cells": [
  {
   "cell_type": "markdown",
   "metadata": {},
   "source": [
    "# Įvadas / apšilimas"
   ]
  },
  {
   "cell_type": "code",
   "execution_count": 1,
   "metadata": {},
   "outputs": [
    {
     "name": "stdout",
     "output_type": "stream",
     "text": [
      "25\n"
     ]
    }
   ],
   "source": [
    "pirmas = input()  # char"
   ]
  },
  {
   "cell_type": "code",
   "execution_count": 2,
   "metadata": {},
   "outputs": [
    {
     "data": {
      "text/plain": [
       "str"
      ]
     },
     "execution_count": 2,
     "metadata": {},
     "output_type": "execute_result"
    }
   ],
   "source": [
    "type(pirmas)"
   ]
  },
  {
   "cell_type": "code",
   "execution_count": 3,
   "metadata": {},
   "outputs": [
    {
     "data": {
      "text/plain": [
       "int"
      ]
     },
     "execution_count": 3,
     "metadata": {},
     "output_type": "execute_result"
    }
   ],
   "source": [
    "type(int(pirmas))"
   ]
  },
  {
   "cell_type": "code",
   "execution_count": 4,
   "metadata": {},
   "outputs": [
    {
     "name": "stdout",
     "output_type": "stream",
     "text": [
      "25\n"
     ]
    }
   ],
   "source": [
    "antras = int(input())"
   ]
  },
  {
   "cell_type": "code",
   "execution_count": 5,
   "metadata": {},
   "outputs": [
    {
     "data": {
      "text/plain": [
       "int"
      ]
     },
     "execution_count": 5,
     "metadata": {},
     "output_type": "execute_result"
    }
   ],
   "source": [
    "type(antras)"
   ]
  },
  {
   "cell_type": "code",
   "execution_count": 10,
   "metadata": {},
   "outputs": [],
   "source": [
    "trečias = []"
   ]
  },
  {
   "cell_type": "code",
   "execution_count": 11,
   "metadata": {},
   "outputs": [
    {
     "data": {
      "text/plain": [
       "list"
      ]
     },
     "execution_count": 11,
     "metadata": {},
     "output_type": "execute_result"
    }
   ],
   "source": [
    "type(trečias)"
   ]
  },
  {
   "cell_type": "code",
   "execution_count": 13,
   "metadata": {},
   "outputs": [
    {
     "name": "stdout",
     "output_type": "stream",
     "text": [
      "visa kita <class 'list'>\n"
     ]
    }
   ],
   "source": [
    "if type(pirmas) == str:\n",
    "    print('tai yra tekstas')\n",
    "elif type(antras) == int:\n",
    "    print('tai yra skaičius')\n",
    "else:\n",
    "    print('visa kita', type(trečias))"
   ]
  },
  {
   "cell_type": "code",
   "execution_count": 15,
   "metadata": {},
   "outputs": [
    {
     "name": "stdout",
     "output_type": "stream",
     "text": [
      "visa kita <class 'list'>\n"
     ]
    }
   ],
   "source": [
    "# vien tik `if`\n",
    "if type(pirmas) == str:\n",
    "    print('tai yra tekstas')\n",
    "if type(antras) == int:\n",
    "    print('tai yra skaičius')\n",
    "else:\n",
    "    print('visa kita', type(trečias))"
   ]
  },
  {
   "cell_type": "code",
   "execution_count": null,
   "metadata": {},
   "outputs": [],
   "source": []
  },
  {
   "cell_type": "code",
   "execution_count": null,
   "metadata": {},
   "outputs": [],
   "source": []
  },
  {
   "cell_type": "code",
   "execution_count": null,
   "metadata": {},
   "outputs": [],
   "source": []
  },
  {
   "cell_type": "code",
   "execution_count": 16,
   "metadata": {},
   "outputs": [],
   "source": [
    "pirmas_skaicius = float(pirmas)"
   ]
  },
  {
   "cell_type": "code",
   "execution_count": 17,
   "metadata": {},
   "outputs": [
    {
     "name": "stdout",
     "output_type": "stream",
     "text": [
      "<class 'float'>\n"
     ]
    }
   ],
   "source": [
    "print(type(pirmas_skaicius))"
   ]
  },
  {
   "cell_type": "code",
   "execution_count": 18,
   "metadata": {},
   "outputs": [
    {
     "name": "stdout",
     "output_type": "stream",
     "text": [
      "tai float skaicius\n"
     ]
    }
   ],
   "source": [
    "if (type(pirmas_skaicius) == float ) or (type(pirmas_skaicius) == int):\n",
    "    print('tai float skaicius')\n",
    "else:\n",
    "    print('else:')\n",
    "    print(type(pirmas_skaicius))"
   ]
  },
  {
   "cell_type": "code",
   "execution_count": 19,
   "metadata": {},
   "outputs": [
    {
     "data": {
      "text/plain": [
       "float"
      ]
     },
     "execution_count": 19,
     "metadata": {},
     "output_type": "execute_result"
    }
   ],
   "source": [
    "type(pirmas_skaicius)"
   ]
  },
  {
   "cell_type": "code",
   "execution_count": 20,
   "metadata": {},
   "outputs": [
    {
     "name": "stdout",
     "output_type": "stream",
     "text": [
      "Duok skaičių!\n"
     ]
    }
   ],
   "source": [
    "if ( type(pirmas) == float ) or ( type(pirmas) == int ):\n",
    "    print(type(pirmas))\n",
    "else:\n",
    "    print('Duok skaičių!')"
   ]
  },
  {
   "cell_type": "code",
   "execution_count": null,
   "metadata": {},
   "outputs": [],
   "source": []
  },
  {
   "cell_type": "markdown",
   "metadata": {},
   "source": [
    "# Funkcijos : 5-1"
   ]
  },
  {
   "cell_type": "markdown",
   "metadata": {},
   "source": [
    "```\n",
    "Užduotis 1\n",
    "Sukurti ir paleisti funkcijas, kurios:\n",
    "+• Sudėtų ir atspausdintų visus paduotus skaičius\n",
    "+• Atspausdintų didžiausią iš kelių paduotų skaičių\n",
    "• Išrikiuotų paduoto stringo žodžius nuo paskutinio iki pirmojo\n",
    "• Patikrintų ir atspausdintų, ar paduotas skaičius yra paduotame sąraše\n",
    "• Atspausdintų, kiek paduotame stringe yra žodžių, skaičių, didžiųjų ir\n",
    "mažųjų raidžių\n",
    "• Atspausdintų visus paduoto rėžio (nuo… iki) lyginius skaičius\n",
    "```"
   ]
  },
  {
   "cell_type": "code",
   "execution_count": 31,
   "metadata": {},
   "outputs": [],
   "source": [
    "# title: Funkcija 5-1-1\n",
    "# version: 2021-10-20T1346 AU\n",
    "\n",
    "def skaiciu_suma(*ivestu_skaiciu_masyvas):\n",
    "    '''\n",
    "    Funkcija sudeda ir atspausdina visus paduotus skaičius\n",
    "    :param args: neribotas įvestų skaičių kiekis\n",
    "    :return: paduotų skaičių suma\n",
    "    '''\n",
    "    suma = 0\n",
    "    for ivestas_skaicius in ivestu_skaiciu_masyvas:\n",
    "        suma += ivestas_skaicius\n",
    "    # print(suma) # QC: OK\n",
    "    return(suma)"
   ]
  },
  {
   "cell_type": "code",
   "execution_count": 32,
   "metadata": {},
   "outputs": [
    {
     "data": {
      "text/plain": [
       "2051"
      ]
     },
     "execution_count": 32,
     "metadata": {},
     "output_type": "execute_result"
    }
   ],
   "source": [
    "skaiciu_suma(2021, 10, 20)"
   ]
  },
  {
   "cell_type": "code",
   "execution_count": 33,
   "metadata": {},
   "outputs": [
    {
     "name": "stdout",
     "output_type": "stream",
     "text": [
      "2051\n"
     ]
    }
   ],
   "source": [
    "print(skaiciu_suma(2021, 10, 20))"
   ]
  },
  {
   "cell_type": "code",
   "execution_count": 34,
   "metadata": {},
   "outputs": [],
   "source": [
    "mano_suma = skaiciu_suma(2021, 10, 20)"
   ]
  },
  {
   "cell_type": "code",
   "execution_count": 35,
   "metadata": {},
   "outputs": [
    {
     "name": "stdout",
     "output_type": "stream",
     "text": [
      "2051\n"
     ]
    }
   ],
   "source": [
    "print(mano_suma)"
   ]
  },
  {
   "cell_type": "code",
   "execution_count": 36,
   "metadata": {},
   "outputs": [
    {
     "data": {
      "text/plain": [
       "643"
      ]
     },
     "execution_count": 36,
     "metadata": {},
     "output_type": "execute_result"
    }
   ],
   "source": [
    "skaiciu_suma(2, 6, 4, 78, 1, 454, 30, 68)"
   ]
  },
  {
   "cell_type": "code",
   "execution_count": null,
   "metadata": {},
   "outputs": [],
   "source": []
  },
  {
   "cell_type": "code",
   "execution_count": 47,
   "metadata": {},
   "outputs": [],
   "source": [
    "# title: Funkcija 5-1-2\n",
    "# version: 2021-10-20T1348 AU\n",
    "\n",
    "def mano_didziausias(*ivestu_skaiciu_sarasas):\n",
    "    '''\n",
    "    Funkcija atspausdina didžiausią iš kelių paduotų skaičių\n",
    "    :param ivestu_skaiciu_sarasas: įvestų skaičių sąrašas\n",
    "    :return: didžiausias skaičius\n",
    "    '''\n",
    "    didziausias = 0\n",
    "        # print(ivestas_skaicius) # QC: OK\n",
    "    for ivestas_skaicius in ivestu_skaiciu_sarasas:\n",
    "        if ivestas_skaicius > didziausias:\n",
    "            didziausias = ivestas_skaicius\n",
    "            print('radau naują didžiausią')\n",
    "    return(didziausias)"
   ]
  },
  {
   "cell_type": "code",
   "execution_count": 48,
   "metadata": {},
   "outputs": [
    {
     "name": "stdout",
     "output_type": "stream",
     "text": [
      "radau naują didžiausią\n",
      "radau naują didžiausią\n",
      "radau naują didžiausią\n",
      "radau naują didžiausią\n",
      "radau naują didžiausią\n"
     ]
    },
    {
     "data": {
      "text/plain": [
       "45"
      ]
     },
     "execution_count": 48,
     "metadata": {},
     "output_type": "execute_result"
    }
   ],
   "source": [
    "mano_didziausias(0, 1, 2, 10, 3, 11, 45, 1)"
   ]
  },
  {
   "cell_type": "code",
   "execution_count": null,
   "metadata": {},
   "outputs": [],
   "source": []
  },
  {
   "cell_type": "code",
   "execution_count": null,
   "metadata": {},
   "outputs": [],
   "source": []
  },
  {
   "cell_type": "code",
   "execution_count": null,
   "metadata": {},
   "outputs": [],
   "source": []
  },
  {
   "cell_type": "code",
   "execution_count": null,
   "metadata": {},
   "outputs": [],
   "source": [
    "# 3 "
   ]
  },
  {
   "cell_type": "code",
   "execution_count": 13,
   "metadata": {},
   "outputs": [],
   "source": [
    "# title: Funkcija 5-1-3\n",
    "# version: 2021-10-20T1432 AU\n",
    "\n",
    "def rikiuok_fraze_atbulai(ivesta_fraze):\n",
    "    '''\n",
    "    Funkcija išrikiuoja paduoto stringo žodžius nuo paskutinio iki pirmojo\n",
    "    :param ivesta_fraze: įvesta frazė\n",
    "    :return: frazė atbulai\n",
    "    '''\n",
    "    frazes_zodziai = ivesta_fraze.split(\" \")\n",
    "    zodziu_frazeje = len(frazes_zodziai)\n",
    "    fraze_atbulai = \"\"\n",
    "    \n",
    "    while zodziu_frazeje > 0:\n",
    "        fraze_atbulai += frazes_zodziai[zodziu_frazeje - 1] + \" \"\n",
    "        zodziu_frazeje -= 1 # longer: zodziu_frazeje = zodziu_frazeje - 1\n",
    "    \n",
    "    return(fraze_atbulai)"
   ]
  },
  {
   "cell_type": "code",
   "execution_count": 14,
   "metadata": {},
   "outputs": [
    {
     "data": {
      "text/plain": [
       "'pirmojo iki paskutinio nuo žodžius stringo paduoto išrikiuoja Funkcija '"
      ]
     },
     "execution_count": 14,
     "metadata": {},
     "output_type": "execute_result"
    }
   ],
   "source": [
    "rikiuok_fraze_atbulai(\"Funkcija išrikiuoja paduoto stringo žodžius nuo paskutinio iki pirmojo\")"
   ]
  },
  {
   "cell_type": "code",
   "execution_count": 15,
   "metadata": {},
   "outputs": [],
   "source": [
    "# Alternatyva:\n",
    "def sakinys_atvirksciai(sakinys):\n",
    "    sakinio_zodziai = sakinys.split() \n",
    "    sarasas_atvirkciai = sakinio_zodziai[::-1]\n",
    "    string_atvirksciai = \" \".join(sarasas_atvirkciai)\n",
    "    print(string_atvirksciai)"
   ]
  },
  {
   "cell_type": "code",
   "execution_count": 16,
   "metadata": {},
   "outputs": [
    {
     "name": "stdout",
     "output_type": "stream",
     "text": [
      "pridėjo? tiek plytų čia kas atėjo, pavasaris Jau\n"
     ]
    }
   ],
   "source": [
    "sakinys_atvirksciai(\"Jau pavasaris atėjo, kas čia plytų tiek pridėjo?\")"
   ]
  },
  {
   "cell_type": "code",
   "execution_count": null,
   "metadata": {},
   "outputs": [],
   "source": []
  },
  {
   "cell_type": "code",
   "execution_count": null,
   "metadata": {},
   "outputs": [],
   "source": []
  },
  {
   "cell_type": "code",
   "execution_count": null,
   "metadata": {},
   "outputs": [],
   "source": []
  },
  {
   "cell_type": "code",
   "execution_count": null,
   "metadata": {},
   "outputs": [],
   "source": []
  },
  {
   "cell_type": "code",
   "execution_count": null,
   "metadata": {},
   "outputs": [],
   "source": [
    "# 4 "
   ]
  },
  {
   "cell_type": "code",
   "execution_count": 21,
   "metadata": {},
   "outputs": [],
   "source": [
    "# title: Funkcija 5-1-4\n",
    "# version: 2021-10-20T1437 AU\n",
    "\n",
    "def ar_yra(skaicius, sarasas):\n",
    "    '''\n",
    "    Funkcija Patikrintų ir atspausdintų, ar paduotas skaičius yra paduotame sąraše\n",
    "    :param skaicius: norimas patikrinti skaicius\n",
    "    :param sarasas: skaičių sąrašas\n",
    "    :return: None\n",
    "    '''\n",
    "    if skaicius in sarasas:\n",
    "        print('yra sąraše')\n",
    "    else:\n",
    "        print('nėra sąraše')"
   ]
  },
  {
   "cell_type": "code",
   "execution_count": 22,
   "metadata": {},
   "outputs": [
    {
     "name": "stdout",
     "output_type": "stream",
     "text": [
      "yra sąraše\n",
      "nėra sąraše\n"
     ]
    }
   ],
   "source": [
    "sarasas = [1, 2, 5, 8, 10]\n",
    "ar_yra(1, sarasas)\n",
    "ar_yra(3, sarasas)"
   ]
  },
  {
   "cell_type": "code",
   "execution_count": 23,
   "metadata": {},
   "outputs": [],
   "source": [
    "# Alternatyva:\n",
    "def ar_yra(skaicius, sarasas):\n",
    "     print(skaicius in sarasas)"
   ]
  },
  {
   "cell_type": "code",
   "execution_count": 24,
   "metadata": {},
   "outputs": [
    {
     "name": "stdout",
     "output_type": "stream",
     "text": [
      "True\n",
      "False\n"
     ]
    }
   ],
   "source": [
    "ar_yra(1, sarasas)\n",
    "ar_yra(3, sarasas)"
   ]
  },
  {
   "cell_type": "code",
   "execution_count": 25,
   "metadata": {},
   "outputs": [
    {
     "data": {
      "text/plain": [
       "bool"
      ]
     },
     "execution_count": 25,
     "metadata": {},
     "output_type": "execute_result"
    }
   ],
   "source": [
    "type(1 in sarasas)"
   ]
  },
  {
   "cell_type": "code",
   "execution_count": 28,
   "metadata": {},
   "outputs": [
    {
     "name": "stdout",
     "output_type": "stream",
     "text": [
      "False\n"
     ]
    }
   ],
   "source": [
    "ar_yra(1, [5, 6, 7, 9, 10, 15, 45, 100])"
   ]
  },
  {
   "cell_type": "code",
   "execution_count": 32,
   "metadata": {},
   "outputs": [
    {
     "name": "stdout",
     "output_type": "stream",
     "text": [
      "2010Q1 2010Q2 2010Q3 2010Q4 2011Q1 2011Q2 2011Q3 2011Q4 2012Q1 2012Q2 2012Q3 2012Q4 2013Q1 2013Q2 2013Q3 2013Q4 2014Q1 2014Q2 2014Q3 2014Q4 2015Q1 2015Q2 2015Q3 2015Q4 2016Q1 2016Q2 2016Q3 2016Q4 2017Q1 2017Q2 2017Q3 2017Q4 2018Q1 2018Q2 2018Q3 2018Q4 2019Q1 2019Q2 2019Q3 2019Q4\n"
     ]
    }
   ],
   "source": [
    "# MARTYNAS ..\n",
    "print(\n",
    "    *[\n",
    "        ( str(s)+'Q'+str(l) )\n",
    "        for s in range(2010,2020)\n",
    "        for l in range(1, 5)\n",
    "        for apskritis in \n",
    "    ]\n",
    ")"
   ]
  },
  {
   "cell_type": "code",
   "execution_count": null,
   "metadata": {},
   "outputs": [],
   "source": []
  },
  {
   "cell_type": "code",
   "execution_count": null,
   "metadata": {},
   "outputs": [],
   "source": []
  },
  {
   "cell_type": "code",
   "execution_count": null,
   "metadata": {},
   "outputs": [],
   "source": []
  },
  {
   "cell_type": "code",
   "execution_count": null,
   "metadata": {},
   "outputs": [],
   "source": []
  },
  {
   "cell_type": "code",
   "execution_count": 33,
   "metadata": {},
   "outputs": [],
   "source": [
    "# 5-1-5\n",
    "# T1447\n",
    "def patikrinti_sakini(sakinys):\n",
    "    '''\n",
    "    Atspausdina, kiek paduotame stringe yra žodžių, skaičių, didžiųjų ir mažųjų raidžių\n",
    "    :param sakinys: Sakinys (string tipo)\n",
    "    :return: None\n",
    "    '''\n",
    "    skaiciai = 0\n",
    "    didziosios_raides = 0\n",
    "    mazosios_raides = 0\n",
    "\n",
    "    zodziu_kiekis = len(sakinys.split())\n",
    "    for simbolis in sakinys:\n",
    "        if simbolis.isdigit():\n",
    "            skaiciai += 1\n",
    "        if simbolis.isupper():\n",
    "            didziosios_raides += 1\n",
    "        if simbolis.islower():\n",
    "            mazosios_raides += 1\n",
    "    print(\n",
    "        \"Žodžių kiekis:\", zodziu_kiekis\n",
    "        , \"Skaičių kiekis\", skaiciai\n",
    "        , \"Didžiųjų raidžių:\", didziosios_raides\n",
    "        , \"Mažųjų raidžių\", mazosios_raides\n",
    "    )"
   ]
  },
  {
   "cell_type": "code",
   "execution_count": 34,
   "metadata": {},
   "outputs": [
    {
     "name": "stdout",
     "output_type": "stream",
     "text": [
      "Žodžių kiekis: 9 Skaičių kiekis 2 Didžiųjų raidžių: 5 Mažųjų raidžių 34\n"
     ]
    }
   ],
   "source": [
    "patikrinti_sakini(\"12: Jau pavasaris atėjo, kas čia plytų TIEK pridėjo?\")"
   ]
  },
  {
   "cell_type": "code",
   "execution_count": 35,
   "metadata": {},
   "outputs": [],
   "source": [
    "# Alternatyva:\n",
    "def patikrinti_sakini(sakinys):\n",
    "    print(\"Žodžių kiekis:\", len(sakinys.split()))\n",
    "    print(\"Skaičių kiekis:\", sum(s.isdigit() for s in sakinys))\n",
    "    print(\"Didžiųjų raidžių:\", sum(s.isupper() for s in sakinys))\n",
    "    print(\"Mažųjų raidžių:\", sum(s.islower() for s in sakinys))"
   ]
  },
  {
   "cell_type": "code",
   "execution_count": 36,
   "metadata": {},
   "outputs": [
    {
     "name": "stdout",
     "output_type": "stream",
     "text": [
      "Žodžių kiekis: 9\n",
      "Skaičių kiekis: 2\n",
      "Didžiųjų raidžių: 5\n",
      "Mažųjų raidžių: 34\n"
     ]
    }
   ],
   "source": [
    "patikrinti_sakini(\"12: Jau pavasaris atėjo, kas čia plytų TIEK pridėjo?\")"
   ]
  },
  {
   "cell_type": "code",
   "execution_count": null,
   "metadata": {},
   "outputs": [],
   "source": []
  },
  {
   "cell_type": "code",
   "execution_count": null,
   "metadata": {},
   "outputs": [],
   "source": []
  },
  {
   "cell_type": "code",
   "execution_count": null,
   "metadata": {},
   "outputs": [],
   "source": []
  },
  {
   "cell_type": "code",
   "execution_count": null,
   "metadata": {},
   "outputs": [],
   "source": []
  },
  {
   "cell_type": "code",
   "execution_count": 39,
   "metadata": {},
   "outputs": [
    {
     "name": "stdout",
     "output_type": "stream",
     "text": [
      "0\n",
      "2\n",
      "4\n",
      "None\n"
     ]
    }
   ],
   "source": [
    "def lyginiai_skaiciai(nuo, iki):\n",
    "    '''\n",
    "    Atspausdina visus paduoto rėžio (nuo… iki) lyginius skaičius\n",
    "    :param nuo: Mažiausias rėžio skaičius\n",
    "    :param iki: Didžiausias rėžio skaičius\n",
    "    :return: Lyginių skaičių sąrašas\n",
    "    '''\n",
    "    for skaicius in range(nuo, iki):\n",
    "        if skaicius % 2 == 0:\n",
    "            print(skaicius)\n",
    "\n",
    "print(lyginiai_skaiciai(0, 5))"
   ]
  },
  {
   "cell_type": "code",
   "execution_count": null,
   "metadata": {},
   "outputs": [],
   "source": []
  }
 ],
 "metadata": {
  "kernelspec": {
   "display_name": "Python 3",
   "language": "python",
   "name": "python3"
  },
  "language_info": {
   "codemirror_mode": {
    "name": "ipython",
    "version": 3
   },
   "file_extension": ".py",
   "mimetype": "text/x-python",
   "name": "python",
   "nbconvert_exporter": "python",
   "pygments_lexer": "ipython3",
   "version": "3.8.8"
  }
 },
 "nbformat": 4,
 "nbformat_minor": 4
}
