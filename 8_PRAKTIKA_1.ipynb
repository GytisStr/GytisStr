{
 "cells": [
  {
   "cell_type": "code",
   "execution_count": 1,
   "id": "e48facb4",
   "metadata": {},
   "outputs": [],
   "source": [
    "import unittest\n",
    "from uzduotis_14_1 import *\n",
    "\n",
    "class TestUzduotis14_1(unittest.TestCase):\n",
    "    \n",
    "    def test_skaiciu_suma(self):\n",
    "        self.assertEqual(643, skaiciu_suma(2, 6, 4, 78, 1, 454, 30, 68))\n",
    "        self.assertEqual(-4, skaiciu_suma(-1, -3))\n",
    "        self.assertEqual(0, skaiciu_suma(-10, 10))"
   ]
  },
  {
   "cell_type": "code",
   "execution_count": 4,
   "id": "a84cb3f1",
   "metadata": {},
   "outputs": [],
   "source": [
    "tikrinimas = TestUzduotis14_1()\n",
    "tikrinimas.test_skaiciu_suma()"
   ]
  }
 ],
 "metadata": {
  "kernelspec": {
   "display_name": "Python 3",
   "language": "python",
   "name": "python3"
  },
  "language_info": {
   "codemirror_mode": {
    "name": "ipython",
    "version": 3
   },
   "file_extension": ".py",
   "mimetype": "text/x-python",
   "name": "python",
   "nbconvert_exporter": "python",
   "pygments_lexer": "ipython3",
   "version": "3.8.8"
  }
 },
 "nbformat": 4,
 "nbformat_minor": 5
}
