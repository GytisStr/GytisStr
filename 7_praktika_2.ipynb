{
 "cells": [
  {
   "cell_type": "markdown",
   "metadata": {},
   "source": [
    "# Užduotis 1\n",
    "\n",
    "Sukurti programą, kuri:\n",
    "* `[OK]` Sukurtų duomenų bazę (atmintyje)\n",
    "* `[OK]` Sukurtų lentelę `paskaitos` su stulpeliais `pavadinimas`, `destytojas` ir `trukme`\n",
    "* `[OK]` Sukurtų tris paskaitas: `('Vadyba', 'Domantas', 40), ('Python', 'Donatas', 80) ir ('Java', 'Tomas', 80)`\n",
    "* `[OK]` Atspausdintų tik tas paskaitas, kurių trukmė didesnė už 50\n",
    "* `[OK]` Atnaujintų paskaitos „Python“ pavadinimą į „Python programavimas“\n",
    "* `[OK]` Ištrintų paskaitą, kurios dėstytojas – „Tomas“\n",
    "* `[OK]` Atspausdintų visas paskaitas (visą lentelę)"
   ]
  },
  {
   "cell_type": "code",
   "execution_count": 1,
   "metadata": {},
   "outputs": [],
   "source": [
    "import sqlite3\n",
    "# conn = sqlite3.connect(\":memory:\")\n",
    "conn = sqlite3.connect(\"my_file.db\") # pvz.: ... error: table already created\n",
    "# print(conn) # OK"
   ]
  },
  {
   "cell_type": "markdown",
   "metadata": {},
   "source": [
    "---"
   ]
  },
  {
   "cell_type": "code",
   "execution_count": 2,
   "metadata": {},
   "outputs": [],
   "source": [
    "query_CREATE = \"\"\"\n",
    "CREATE TABLE paskaitos(\n",
    "  pavadinimas text\n",
    ", destytojas text\n",
    ", trukme int\n",
    ")\n",
    "\"\"\""
   ]
  },
  {
   "cell_type": "code",
   "execution_count": 3,
   "metadata": {},
   "outputs": [
    {
     "ename": "OperationalError",
     "evalue": "table paskaitos already exists",
     "output_type": "error",
     "traceback": [
      "\u001b[1;31m---------------------------------------------------------------------------\u001b[0m",
      "\u001b[1;31mOperationalError\u001b[0m                          Traceback (most recent call last)",
      "\u001b[1;32m<ipython-input-3-f830d40d1c41>\u001b[0m in \u001b[0;36m<module>\u001b[1;34m\u001b[0m\n\u001b[0;32m      1\u001b[0m \u001b[0mc\u001b[0m \u001b[1;33m=\u001b[0m \u001b[0mconn\u001b[0m\u001b[1;33m.\u001b[0m\u001b[0mcursor\u001b[0m\u001b[1;33m(\u001b[0m\u001b[1;33m)\u001b[0m\u001b[1;33m\u001b[0m\u001b[1;33m\u001b[0m\u001b[0m\n\u001b[0;32m      2\u001b[0m \u001b[1;32mwith\u001b[0m \u001b[0mconn\u001b[0m\u001b[1;33m:\u001b[0m\u001b[1;33m\u001b[0m\u001b[1;33m\u001b[0m\u001b[0m\n\u001b[1;32m----> 3\u001b[1;33m     \u001b[0mc\u001b[0m\u001b[1;33m.\u001b[0m\u001b[0mexecute\u001b[0m\u001b[1;33m(\u001b[0m\u001b[0mquery_CREATE\u001b[0m\u001b[1;33m)\u001b[0m\u001b[1;33m\u001b[0m\u001b[1;33m\u001b[0m\u001b[0m\n\u001b[0m",
      "\u001b[1;31mOperationalError\u001b[0m: table paskaitos already exists"
     ]
    }
   ],
   "source": [
    "c = conn.cursor()\n",
    "with conn:\n",
    "    c.execute(query_CREATE)"
   ]
  },
  {
   "cell_type": "code",
   "execution_count": 4,
   "metadata": {},
   "outputs": [
    {
     "name": "stdout",
     "output_type": "stream",
     "text": [
      "[('Vadyba', 'Domantas', 40), ('Python', 'Donatas', 80), ('Java', 'Tomas', 80)]\n"
     ]
    }
   ],
   "source": [
    "query_CREATE_QC = \"SELECT * FROM paskaitos\"\n",
    "\n",
    "with conn:\n",
    "    c.execute(query_CREATE_QC)\n",
    "    print(c.fetchall())"
   ]
  },
  {
   "cell_type": "markdown",
   "metadata": {},
   "source": [
    "---"
   ]
  },
  {
   "cell_type": "code",
   "execution_count": 9,
   "metadata": {},
   "outputs": [],
   "source": [
    "## INSERT DATA  ## MANY LINES\n",
    "with conn:\n",
    "    c.execute(\"INSERT INTO paskaitos VALUES ('Vadyba', 'Domantas', 40)\")\n",
    "    c.execute(\"INSERT INTO paskaitos VALUES ('Python', 'Donatas', 80)\")\n",
    "    c.execute(\"INSERT INTO paskaitos VALUES ('Java', 'Tomas', 80)\")"
   ]
  },
  {
   "cell_type": "code",
   "execution_count": 9,
   "metadata": {},
   "outputs": [
    {
     "name": "stdout",
     "output_type": "stream",
     "text": [
      "[('Vadyba', 'Domantas', 40), ('Python', 'Donatas', 80), ('Java', 'Tomas', 80), ('Vadyba', 'Domantas', 400), ('Python', 'Donatas', 180), ('Vadyba', 'Domantas', 400), ('Python', 'Donatas', 180)]\n"
     ]
    }
   ],
   "source": [
    "query_INSERT_QC = \"SELECT * FROM paskaitos\"\n",
    "\n",
    "with conn:\n",
    "    c.execute(query_INSERT_QC)\n",
    "    print(c.fetchall())"
   ]
  },
  {
   "cell_type": "code",
   "execution_count": 8,
   "metadata": {},
   "outputs": [],
   "source": [
    "## INSERT DATA  ## VIENAS KVIETIMAS, DAUG EILUČIŲ\n",
    "with conn:\n",
    "    c.execute(\"\"\"\n",
    "    -- KUR?\n",
    "    INSERT INTO\n",
    "        paskaitos\n",
    "\n",
    "    -- KĄ?\n",
    "    VALUES\n",
    "        ('Vadyba', 'Domantas', 400)\n",
    "    ,\t('Python', 'Donatas', 180)\n",
    "    ,\t('Java', 'Tomas', 820)\n",
    "    \"\"\")"
   ]
  },
  {
   "cell_type": "markdown",
   "metadata": {},
   "source": [
    "---"
   ]
  },
  {
   "cell_type": "markdown",
   "metadata": {},
   "source": [
    "### Baigia: Inžinierius: struktūra paruošta, duomenys jau yra; pradeda analitikai"
   ]
  },
  {
   "cell_type": "code",
   "execution_count": 12,
   "metadata": {},
   "outputs": [
    {
     "name": "stdout",
     "output_type": "stream",
     "text": [
      "[(6,)]\n"
     ]
    }
   ],
   "source": [
    "# Atspausdinti kiekį įrašų, kuriuos grąžins pilna užklausa\n",
    "with conn:\n",
    "    c.execute(\n",
    "        \"\"\"\n",
    "        SELECT COUNT(*) AS 'COUNTER'\n",
    "        FROM paskaitos\n",
    "        WHERE trukme > 50\n",
    "        \"\"\"\n",
    "    )\n",
    "    print(c.fetchall())"
   ]
  },
  {
   "cell_type": "code",
   "execution_count": 13,
   "metadata": {},
   "outputs": [
    {
     "name": "stdout",
     "output_type": "stream",
     "text": [
      "[('Python', 'Donatas', 80), ('Java', 'Tomas', 80), ('Vadyba', 'Domantas', 400), ('Python', 'Donatas', 180), ('Vadyba', 'Domantas', 400), ('Python', 'Donatas', 180)]\n"
     ]
    }
   ],
   "source": [
    "# Atspausdintų tik tas paskaitas, kurių trukmė didesnė už 50\n",
    "with conn:\n",
    "    c.execute(\"SELECT * FROM paskaitos WHERE trukme > 50\")\n",
    "    print(c.fetchall())"
   ]
  },
  {
   "cell_type": "markdown",
   "metadata": {},
   "source": [
    "---"
   ]
  },
  {
   "cell_type": "code",
   "execution_count": 14,
   "metadata": {},
   "outputs": [],
   "source": [
    "# * Atnaujintų paskaitos „Python“ pavadinimą į „Python programavimas“\n",
    "q_update_PY8 = \"\"\"\n",
    "UPDATE paskaitos\n",
    "SET pavadinimas = \"LSD_PP_G4_7\"\n",
    "WHERE pavadinimas = \"Python\"\n",
    "\"\"\"\n",
    "\n",
    "with conn:\n",
    "    c.execute(q_update_PY8)"
   ]
  },
  {
   "cell_type": "code",
   "execution_count": 20,
   "metadata": {},
   "outputs": [],
   "source": [
    "with conn:\n",
    "#     c.execute(\"SELECT COUNT(*) FROM paskaitos\")\n",
    "    c.execute(\"SELECT * FROM paskaitos LIMIT 10\")\n",
    "#     c.execute(\"SELECT TOP 10 * FROM paskaitos\") # alternatyva\n",
    "#     print(c.fetchall()) # visos eilutes\n",
    "#     print(c.fetchone()) # viena eilute\n",
    "#    x = c.fetchall()\n",
    "    x1 = c.fetchone() # viena eilute"
   ]
  },
  {
   "cell_type": "code",
   "execution_count": 18,
   "metadata": {},
   "outputs": [
    {
     "name": "stdout",
     "output_type": "stream",
     "text": [
      "Ouch\n"
     ]
    }
   ],
   "source": [
    "with conn:\n",
    "    c.execute(\"SELECT * FROM paskaitos\")\n",
    "    while 1:\n",
    "        row = c.fetchone()\n",
    "        if row is None:\n",
    "            print(\"Ouch\")\n",
    "            break\n",
    "        # process row"
   ]
  },
  {
   "cell_type": "code",
   "execution_count": 23,
   "metadata": {},
   "outputs": [
    {
     "name": "stdout",
     "output_type": "stream",
     "text": [
      "Vadyba\n"
     ]
    }
   ],
   "source": [
    "print(x1[0])"
   ]
  },
  {
   "cell_type": "markdown",
   "metadata": {},
   "source": [
    "---"
   ]
  },
  {
   "cell_type": "code",
   "execution_count": 29,
   "metadata": {
    "scrolled": true
   },
   "outputs": [
    {
     "name": "stdout",
     "output_type": "stream",
     "text": [
      "\n",
      "DELETE FROM paskaitos\n",
      "WHERE destytojas = 'Domantas'\n",
      "\n"
     ]
    }
   ],
   "source": [
    "# Ištrintų paskaitą, kurios dėstytojas – „Tomas“\n",
    "delete_teacher = \"\"\"\n",
    "DELETE FROM paskaitos\n",
    "WHERE destytojas = 'Domantas'\n",
    "\"\"\"\n",
    "\n",
    "## \"\\nDELETE FROM paskaitos\\nWHERE destytojas = 'Domantas'\\n\"\n",
    "\n",
    "print(delete_teacher)"
   ]
  },
  {
   "cell_type": "code",
   "execution_count": 30,
   "metadata": {},
   "outputs": [],
   "source": [
    "with conn:\n",
    "    c.execute(delete_teacher)"
   ]
  },
  {
   "cell_type": "code",
   "execution_count": 31,
   "metadata": {},
   "outputs": [
    {
     "name": "stdout",
     "output_type": "stream",
     "text": [
      "[('LSD_PP_G4_7', 'Donatas', 80), ('Java', 'Tomas', 80), ('LSD_PP_G4_7', 'Donatas', 180), ('LSD_PP_G4_7', 'Donatas', 180)]\n"
     ]
    }
   ],
   "source": [
    "with conn:\n",
    "    c.execute(\"SELECT * FROM paskaitos LIMIT 10\")\n",
    "    print(c.fetchall())"
   ]
  },
  {
   "cell_type": "markdown",
   "metadata": {},
   "source": [
    "---"
   ]
  },
  {
   "cell_type": "markdown",
   "metadata": {},
   "source": [
    "# JŪSŲ PRAKTIKA :)\n",
    "KAS NORI PASIPRAKTIKUOTI ?"
   ]
  },
  {
   "cell_type": "code",
   "execution_count": null,
   "metadata": {},
   "outputs": [],
   "source": []
  }
 ],
 "metadata": {
  "kernelspec": {
   "display_name": "Python 3",
   "language": "python",
   "name": "python3"
  },
  "language_info": {
   "codemirror_mode": {
    "name": "ipython",
    "version": 3
   },
   "file_extension": ".py",
   "mimetype": "text/x-python",
   "name": "python",
   "nbconvert_exporter": "python",
   "pygments_lexer": "ipython3",
   "version": "3.8.8"
  }
 },
 "nbformat": 4,
 "nbformat_minor": 4
}
