{
 "cells": [
  {
   "cell_type": "code",
   "execution_count": null,
   "id": "e1502f1d",
   "metadata": {},
   "outputs": [],
   "source": [
    "def dalyba(a, b):\n",
    "    return a / b\n",
    "\n",
    "a = 10\n",
    "b = 5\n",
    "\n",
    "padalinom = dalyba(a, b)\n",
    "print(f\"Dalyba: {a} / {b} = {padalinom}\")"
   ]
  },
  {
   "cell_type": "code",
   "execution_count": null,
   "id": "b6a4504e",
   "metadata": {},
   "outputs": [],
   "source": [
    "import logging\n",
    "\n",
    "def dalyba(a, b):\n",
    "    return a / b\n",
    "\n",
    "a = 10\n",
    "b = 5\n",
    "\n",
    "padalinom = dalyba(a, b)\n",
    "logging.warning(f\"Dalyba: {a} / {b} = {padalinom}\")"
   ]
  },
  {
   "cell_type": "code",
   "execution_count": null,
   "id": "49a60ed8",
   "metadata": {},
   "outputs": [],
   "source": []
  },
  {
   "cell_type": "code",
   "execution_count": null,
   "id": "1c0112a6",
   "metadata": {},
   "outputs": [],
   "source": []
  },
  {
   "cell_type": "code",
   "execution_count": null,
   "id": "1b1b86ec",
   "metadata": {},
   "outputs": [],
   "source": []
  },
  {
   "cell_type": "code",
   "execution_count": null,
   "id": "80da0def",
   "metadata": {},
   "outputs": [],
   "source": []
  },
  {
   "cell_type": "code",
   "execution_count": null,
   "id": "bdeeb9cc",
   "metadata": {},
   "outputs": [],
   "source": [
    "import logging\n",
    "\n",
    "logging.basicConfig(\n",
    "    level=logging.DEBUG # v1\n",
    "    , filename='aritmetika.log' # v2\n",
    "    , format='%(asctime)s:%(levelname)s:%(message)s' # v3\n",
    ")\n",
    "\n",
    "def dalyba(a, b):\n",
    "    return a / b\n",
    "\n",
    "a = 10\n",
    "b = 5"
   ]
  },
  {
   "cell_type": "code",
   "execution_count": null,
   "id": "a1b54300",
   "metadata": {},
   "outputs": [],
   "source": [
    "padalinom = dalyba(a, b)\n",
    "logging.debug(f\"Dalyba: {a} / {b} = {padalinom}\")"
   ]
  },
  {
   "cell_type": "code",
   "execution_count": null,
   "id": "2b2efe32",
   "metadata": {},
   "outputs": [],
   "source": [
    "!dir"
   ]
  },
  {
   "cell_type": "code",
   "execution_count": null,
   "id": "2e4543fd",
   "metadata": {},
   "outputs": [],
   "source": [
    "class Asmuo:\n",
    "    def __init__(self, vardas, pavarde):\n",
    "        self.vardas = vardas\n",
    "        self.pavarde = pavarde\n",
    "        logging.info(f\"Sukurtas darbuotojas: {self.vardas} {self.pavarde}\")"
   ]
  },
  {
   "cell_type": "code",
   "execution_count": null,
   "id": "57d9c393",
   "metadata": {},
   "outputs": [],
   "source": [
    "pirmas = Asmuo(\"Lukas\", \"M\")"
   ]
  },
  {
   "cell_type": "code",
   "execution_count": null,
   "id": "f5218882",
   "metadata": {},
   "outputs": [],
   "source": [
    "pirmas"
   ]
  },
  {
   "cell_type": "code",
   "execution_count": null,
   "id": "83ff5b7e",
   "metadata": {},
   "outputs": [],
   "source": []
  },
  {
   "cell_type": "code",
   "execution_count": null,
   "id": "3e355924",
   "metadata": {},
   "outputs": [],
   "source": []
  },
  {
   "cell_type": "code",
   "execution_count": null,
   "id": "87a235de",
   "metadata": {},
   "outputs": [],
   "source": []
  },
  {
   "cell_type": "code",
   "execution_count": null,
   "id": "3000226f",
   "metadata": {},
   "outputs": [],
   "source": []
  },
  {
   "cell_type": "code",
   "execution_count": 1,
   "id": "331521bd",
   "metadata": {},
   "outputs": [],
   "source": [
    "class Asmuo:\n",
    "    def __init__(self, vardas, pavarde):\n",
    "        self.vardas = vardas\n",
    "        self.pavarde = pavarde\n",
    "        logging.info(f\"Sukurtas darbuotojas: {self.vardas} {self.pavarde}\")"
   ]
  },
  {
   "cell_type": "code",
   "execution_count": 2,
   "id": "af707dc7",
   "metadata": {},
   "outputs": [],
   "source": [
    "import logging\n",
    "\n",
    "logger = logging.getLogger(__name__)\n",
    "\n",
    "file_handler = logging.FileHandler('asmenys.log')\n",
    "logger.addHandler(file_handler)\n",
    "\n",
    "logger.setLevel(logging.DEBUG)\n",
    "\n",
    "formatter = logging.Formatter('%(asctime)s:%(levelname)s:%(name)s:%(message)s')\n",
    "file_handler.setFormatter(formatter)"
   ]
  },
  {
   "cell_type": "code",
   "execution_count": 4,
   "id": "bba361e4",
   "metadata": {},
   "outputs": [],
   "source": [
    "pirmas = Asmuo(\"Lukas\", \"M\")"
   ]
  },
  {
   "cell_type": "code",
   "execution_count": null,
   "id": "bd3f7c54",
   "metadata": {},
   "outputs": [],
   "source": []
  },
  {
   "cell_type": "code",
   "execution_count": null,
   "id": "e59fd5fe",
   "metadata": {},
   "outputs": [],
   "source": []
  },
  {
   "cell_type": "code",
   "execution_count": null,
   "id": "adf85392",
   "metadata": {},
   "outputs": [],
   "source": []
  },
  {
   "cell_type": "code",
   "execution_count": null,
   "id": "0e2f861c",
   "metadata": {},
   "outputs": [],
   "source": []
  },
  {
   "cell_type": "code",
   "execution_count": 8,
   "id": "254c4bfe",
   "metadata": {},
   "outputs": [],
   "source": [
    "def dalyba(a, b):\n",
    "    try:\n",
    "        rezultatas = a / b\n",
    "    except ZeroDivisionError:\n",
    "        logger.exception(\"Dalyba iš nulio\")\n",
    "    else:\n",
    "        return rezultatas"
   ]
  },
  {
   "cell_type": "code",
   "execution_count": 9,
   "id": "d9f31674",
   "metadata": {},
   "outputs": [
    {
     "data": {
      "text/plain": [
       "4.0"
      ]
     },
     "execution_count": 9,
     "metadata": {},
     "output_type": "execute_result"
    }
   ],
   "source": [
    "a = 20\n",
    "b = 5\n",
    "dalyba(a, b)"
   ]
  },
  {
   "cell_type": "code",
   "execution_count": 10,
   "id": "69abdb9a",
   "metadata": {},
   "outputs": [
    {
     "name": "stderr",
     "output_type": "stream",
     "text": [
      "ERROR:__main__:Dalyba iš nulio\n",
      "Traceback (most recent call last):\n",
      "  File \"<ipython-input-8-2c7d25d5aa0b>\", line 3, in dalyba\n",
      "    rezultatas = a / b\n",
      "ZeroDivisionError: division by zero\n"
     ]
    }
   ],
   "source": [
    "a = 20\n",
    "b = 0\n",
    "dalyba(a, b)"
   ]
  },
  {
   "cell_type": "code",
   "execution_count": 11,
   "id": "4c5fecc6",
   "metadata": {},
   "outputs": [
    {
     "name": "stderr",
     "output_type": "stream",
     "text": [
      "ERROR:__main__:Dalyba iš nulio\n",
      "Traceback (most recent call last):\n",
      "  File \"<ipython-input-8-2c7d25d5aa0b>\", line 3, in dalyba\n",
      "    rezultatas = a / b\n",
      "ZeroDivisionError: division by zero\n",
      "INFO:__main__:Dalyba: 20 / 0 = None\n"
     ]
    }
   ],
   "source": [
    "padalinom = dalyba(a, b)\n",
    "logger.info(f\"Dalyba: {a} / {b} = {padalinom}\")"
   ]
  },
  {
   "cell_type": "code",
   "execution_count": null,
   "id": "16a7eb8c",
   "metadata": {},
   "outputs": [],
   "source": []
  }
 ],
 "metadata": {
  "kernelspec": {
   "display_name": "Python 3",
   "language": "python",
   "name": "python3"
  },
  "language_info": {
   "codemirror_mode": {
    "name": "ipython",
    "version": 3
   },
   "file_extension": ".py",
   "mimetype": "text/x-python",
   "name": "python",
   "nbconvert_exporter": "python",
   "pygments_lexer": "ipython3",
   "version": "3.8.8"
  }
 },
 "nbformat": 4,
 "nbformat_minor": 5
}
