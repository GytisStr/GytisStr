{
 "cells": [
  {
   "cell_type": "markdown",
   "metadata": {},
   "source": [
    "# Įvadas / apšilimas"
   ]
  },
  {
   "cell_type": "code",
   "execution_count": 1,
   "metadata": {},
   "outputs": [
    {
     "name": "stdout",
     "output_type": "stream",
     "text": [
      "25\n"
     ]
    }
   ],
   "source": [
    "pirmas = input()  # char"
   ]
  },
  {
   "cell_type": "code",
   "execution_count": 2,
   "metadata": {},
   "outputs": [
    {
     "data": {
      "text/plain": [
       "str"
      ]
     },
     "execution_count": 2,
     "metadata": {},
     "output_type": "execute_result"
    }
   ],
   "source": [
    "type(pirmas)"
   ]
  },
  {
   "cell_type": "code",
   "execution_count": 3,
   "metadata": {},
   "outputs": [
    {
     "data": {
      "text/plain": [
       "int"
      ]
     },
     "execution_count": 3,
     "metadata": {},
     "output_type": "execute_result"
    }
   ],
   "source": [
    "type(int(pirmas))"
   ]
  },
  {
   "cell_type": "code",
   "execution_count": 4,
   "metadata": {},
   "outputs": [
    {
     "name": "stdout",
     "output_type": "stream",
     "text": [
      "25\n"
     ]
    }
   ],
   "source": [
    "antras = int(input())"
   ]
  },
  {
   "cell_type": "code",
   "execution_count": 5,
   "metadata": {},
   "outputs": [
    {
     "data": {
      "text/plain": [
       "int"
      ]
     },
     "execution_count": 5,
     "metadata": {},
     "output_type": "execute_result"
    }
   ],
   "source": [
    "type(antras)"
   ]
  },
  {
   "cell_type": "code",
   "execution_count": 10,
   "metadata": {},
   "outputs": [],
   "source": [
    "trečias = []"
   ]
  },
  {
   "cell_type": "code",
   "execution_count": 11,
   "metadata": {},
   "outputs": [
    {
     "data": {
      "text/plain": [
       "list"
      ]
     },
     "execution_count": 11,
     "metadata": {},
     "output_type": "execute_result"
    }
   ],
   "source": [
    "type(trečias)"
   ]
  },
  {
   "cell_type": "code",
   "execution_count": 13,
   "metadata": {},
   "outputs": [
    {
     "name": "stdout",
     "output_type": "stream",
     "text": [
      "visa kita <class 'list'>\n"
     ]
    }
   ],
   "source": [
    "if type(pirmas) == str:\n",
    "    print('tai yra tekstas')\n",
    "elif type(antras) == int:\n",
    "    print('tai yra skaičius')\n",
    "else:\n",
    "    print('visa kita', type(trečias))"
   ]
  },
  {
   "cell_type": "code",
   "execution_count": 15,
   "metadata": {},
   "outputs": [
    {
     "name": "stdout",
     "output_type": "stream",
     "text": [
      "visa kita <class 'list'>\n"
     ]
    }
   ],
   "source": [
    "# vien tik `if`\n",
    "if type(pirmas) == str:\n",
    "    print('tai yra tekstas')\n",
    "if type(antras) == int:\n",
    "    print('tai yra skaičius')\n",
    "else:\n",
    "    print('visa kita', type(trečias))"
   ]
  },
  {
   "cell_type": "code",
   "execution_count": null,
   "metadata": {},
   "outputs": [],
   "source": []
  },
  {
   "cell_type": "code",
   "execution_count": null,
   "metadata": {},
   "outputs": [],
   "source": []
  },
  {
   "cell_type": "code",
   "execution_count": null,
   "metadata": {},
   "outputs": [],
   "source": []
  },
  {
   "cell_type": "code",
   "execution_count": 16,
   "metadata": {},
   "outputs": [],
   "source": [
    "pirmas_skaicius = float(pirmas)"
   ]
  },
  {
   "cell_type": "code",
   "execution_count": 17,
   "metadata": {},
   "outputs": [
    {
     "name": "stdout",
     "output_type": "stream",
     "text": [
      "<class 'float'>\n"
     ]
    }
   ],
   "source": [
    "print(type(pirmas_skaicius))"
   ]
  },
  {
   "cell_type": "code",
   "execution_count": 18,
   "metadata": {},
   "outputs": [
    {
     "name": "stdout",
     "output_type": "stream",
     "text": [
      "tai float skaicius\n"
     ]
    }
   ],
   "source": [
    "if (type(pirmas_skaicius) == float ) or (type(pirmas_skaicius) == int):\n",
    "    print('tai float skaicius')\n",
    "else:\n",
    "    print('else:')\n",
    "    print(type(pirmas_skaicius))"
   ]
  },
  {
   "cell_type": "code",
   "execution_count": 19,
   "metadata": {},
   "outputs": [
    {
     "data": {
      "text/plain": [
       "float"
      ]
     },
     "execution_count": 19,
     "metadata": {},
     "output_type": "execute_result"
    }
   ],
   "source": [
    "type(pirmas_skaicius)"
   ]
  },
  {
   "cell_type": "code",
   "execution_count": 20,
   "metadata": {},
   "outputs": [
    {
     "name": "stdout",
     "output_type": "stream",
     "text": [
      "Duok skaičių!\n"
     ]
    }
   ],
   "source": [
    "if ( type(pirmas) == float ) or ( type(pirmas) == int ):\n",
    "    print(type(pirmas))\n",
    "else:\n",
    "    print('Duok skaičių!')"
   ]
  },
  {
   "cell_type": "code",
   "execution_count": null,
   "metadata": {},
   "outputs": [],
   "source": []
  },
  {
   "cell_type": "markdown",
   "metadata": {},
   "source": [
    "# Funkcijos : 5-1"
   ]
  },
  {
   "cell_type": "markdown",
   "metadata": {},
   "source": [
    "```\n",
    "Užduotis 1\n",
    "Sukurti ir paleisti funkcijas, kurios:\n",
    "• Sudėtų ir atspausdintų visus paduotus skaičius\n",
    "• Atspausdintų didžiausią iš kelių paduotų skaičių\n",
    "• Išrikiuotų paduoto stringo žodžius nuo paskutinio iki pirmojo\n",
    "• Patikrintų ir atspausdintų, ar paduotas skaičius yra paduotame sąraše\n",
    "• Atspausdintų, kiek paduotame stringe yra žodžių, skaičių, didžiųjų ir\n",
    "mažųjų raidžių\n",
    "• Atspausdintų visus paduoto rėžio (nuo… iki) lyginius skaičius\n",
    "```"
   ]
  },
  {
   "cell_type": "code",
   "execution_count": 31,
   "metadata": {},
   "outputs": [],
   "source": [
    "# title: Funkcija 5-1-1\n",
    "# version: 2021-10-20T1346 AU\n",
    "\n",
    "def skaiciu_suma(*ivestu_skaiciu_masyvas):\n",
    "    '''\n",
    "    Funkcija sudeda ir atspausdina visus paduotus skaičius\n",
    "    :param args: neribotas įvestų skaičių kiekis\n",
    "    :return: paduotų skaičių suma\n",
    "    '''\n",
    "    suma = 0\n",
    "    for ivestas_skaicius in ivestu_skaiciu_masyvas:\n",
    "        suma += ivestas_skaicius\n",
    "    # print(suma) # QC: OK\n",
    "    return(suma)"
   ]
  },
  {
   "cell_type": "code",
   "execution_count": 32,
   "metadata": {},
   "outputs": [
    {
     "data": {
      "text/plain": [
       "2051"
      ]
     },
     "execution_count": 32,
     "metadata": {},
     "output_type": "execute_result"
    }
   ],
   "source": [
    "skaiciu_suma(2021, 10, 20)"
   ]
  },
  {
   "cell_type": "code",
   "execution_count": 33,
   "metadata": {},
   "outputs": [
    {
     "name": "stdout",
     "output_type": "stream",
     "text": [
      "2051\n"
     ]
    }
   ],
   "source": [
    "print(skaiciu_suma(2021, 10, 20))"
   ]
  },
  {
   "cell_type": "code",
   "execution_count": 34,
   "metadata": {},
   "outputs": [],
   "source": [
    "mano_suma = skaiciu_suma(2021, 10, 20)"
   ]
  },
  {
   "cell_type": "code",
   "execution_count": 35,
   "metadata": {},
   "outputs": [
    {
     "name": "stdout",
     "output_type": "stream",
     "text": [
      "2051\n"
     ]
    }
   ],
   "source": [
    "print(mano_suma)"
   ]
  },
  {
   "cell_type": "code",
   "execution_count": 36,
   "metadata": {},
   "outputs": [
    {
     "data": {
      "text/plain": [
       "643"
      ]
     },
     "execution_count": 36,
     "metadata": {},
     "output_type": "execute_result"
    }
   ],
   "source": [
    "skaiciu_suma(2, 6, 4, 78, 1, 454, 30, 68)"
   ]
  },
  {
   "cell_type": "code",
   "execution_count": null,
   "metadata": {},
   "outputs": [],
   "source": []
  },
  {
   "cell_type": "code",
   "execution_count": 47,
   "metadata": {},
   "outputs": [],
   "source": [
    "# title: Funkcija 5-1-2\n",
    "# version: 2021-10-20T1348 AU\n",
    "\n",
    "def mano_didziausias(*ivestu_skaiciu_sarasas):\n",
    "    '''\n",
    "    Funkcija atspausdina didžiausią iš kelių paduotų skaičių\n",
    "    :param ivestu_skaiciu_sarasas: įvestų skaičių sąrašas\n",
    "    :return: didžiausias skaičius\n",
    "    '''\n",
    "    didziausias = 0\n",
    "        # print(ivestas_skaicius) # QC: OK\n",
    "    for ivestas_skaicius in ivestu_skaiciu_sarasas:\n",
    "        if ivestas_skaicius > didziausias:\n",
    "            didziausias = ivestas_skaicius\n",
    "            print('radau naują didžiausią')\n",
    "    return(didziausias)"
   ]
  },
  {
   "cell_type": "code",
   "execution_count": 48,
   "metadata": {},
   "outputs": [
    {
     "name": "stdout",
     "output_type": "stream",
     "text": [
      "radau naują didžiausią\n",
      "radau naują didžiausią\n",
      "radau naują didžiausią\n",
      "radau naują didžiausią\n",
      "radau naują didžiausią\n"
     ]
    },
    {
     "data": {
      "text/plain": [
       "45"
      ]
     },
     "execution_count": 48,
     "metadata": {},
     "output_type": "execute_result"
    }
   ],
   "source": [
    "mano_didziausias(0, 1, 2, 10, 3, 11, 45, 1)"
   ]
  },
  {
   "cell_type": "code",
   "execution_count": null,
   "metadata": {},
   "outputs": [],
   "source": []
  }
 ],
 "metadata": {
  "kernelspec": {
   "display_name": "Python 3",
   "language": "python",
   "name": "python3"
  },
  "language_info": {
   "codemirror_mode": {
    "name": "ipython",
    "version": 3
   },
   "file_extension": ".py",
   "mimetype": "text/x-python",
   "name": "python",
   "nbconvert_exporter": "python",
   "pygments_lexer": "ipython3",
   "version": "3.8.8"
  }
 },
 "nbformat": 4,
 "nbformat_minor": 4
}
